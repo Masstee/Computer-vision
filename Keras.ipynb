{
  "nbformat": 4,
  "nbformat_minor": 0,
  "metadata": {
    "colab": {
      "name": "Keras.ipynb",
      "provenance": [],
      "collapsed_sections": [],
      "authorship_tag": "ABX9TyMsxOJHK8KRvoPMiRh+Xqbj",
      "include_colab_link": true
    },
    "kernelspec": {
      "name": "python3",
      "display_name": "Python 3"
    },
    "accelerator": "GPU"
  },
  "cells": [
    {
      "cell_type": "markdown",
      "metadata": {
        "id": "view-in-github",
        "colab_type": "text"
      },
      "source": [
        "<a href=\"https://colab.research.google.com/github/olaidejoseph/Computer-vision/blob/master/Keras.ipynb\" target=\"_parent\"><img src=\"https://colab.research.google.com/assets/colab-badge.svg\" alt=\"Open In Colab\"/></a>"
      ]
    },
    {
      "cell_type": "code",
      "metadata": {
        "id": "iCwI6AOah0Qv",
        "colab_type": "code",
        "colab": {
          "base_uri": "https://localhost:8080/",
          "height": 36
        },
        "outputId": "886258e2-cd7f-43d3-bc4d-04fa3da7718b"
      },
      "source": [
        "\n",
        "import tensorflow as tf \n",
        "tf.test.gpu_device_name() \n"
      ],
      "execution_count": null,
      "outputs": [
        {
          "output_type": "execute_result",
          "data": {
            "application/vnd.google.colaboratory.intrinsic+json": {
              "type": "string"
            },
            "text/plain": [
              "'/device:GPU:0'"
            ]
          },
          "metadata": {
            "tags": []
          },
          "execution_count": 1
        }
      ]
    },
    {
      "cell_type": "code",
      "metadata": {
        "id": "NpUH5-ENVOtA",
        "colab_type": "code",
        "colab": {}
      },
      "source": [
        "# a quick neural network"
      ],
      "execution_count": null,
      "outputs": []
    },
    {
      "cell_type": "code",
      "metadata": {
        "id": "Lb2VrBOzpWxj",
        "colab_type": "code",
        "colab": {}
      },
      "source": [
        "import numpy as np\n",
        "from keras.datasets import mnist\n",
        "from keras.models import Sequential\n",
        "from keras.layers.core import Dense, Activation\n",
        "from keras.optimizers import SGD\n",
        "from keras.utils import np_utils\n",
        "np.random.seed(1671)"
      ],
      "execution_count": null,
      "outputs": []
    },
    {
      "cell_type": "code",
      "metadata": {
        "id": "QlcLW2uNu5rY",
        "colab_type": "code",
        "colab": {
          "base_uri": "https://localhost:8080/",
          "height": 54
        },
        "outputId": "9b1e90b5-4f74-42b1-eae5-c88093df89e2"
      },
      "source": [
        "# network and training \n",
        "NB_EPOCH = 200\n",
        "BATCH_SIZE = 128\n",
        "VERBOSE = 1\n",
        "NB_CLASSES = 10 \n",
        "OPTIMIZER = SGD()\n",
        "N_HIDDEN = 128\n",
        "VALIDATION_SPLIT = 0.2\n",
        "\n",
        "(X_train, y_train), (X_test, y_test) = mnist.load_data()\n",
        "\n",
        "RESHAPED = 784"
      ],
      "execution_count": null,
      "outputs": [
        {
          "output_type": "stream",
          "text": [
            "Downloading data from https://s3.amazonaws.com/img-datasets/mnist.npz\n",
            "11493376/11490434 [==============================] - 1s 0us/step\n"
          ],
          "name": "stdout"
        }
      ]
    },
    {
      "cell_type": "code",
      "metadata": {
        "id": "K_Ofz1WOyF3J",
        "colab_type": "code",
        "colab": {}
      },
      "source": [
        "X_train = X_train.reshape(60000,RESHAPED)\n",
        "X_test = X_test.reshape(10000, RESHAPED)\n",
        "X_train = X_train.astype('float32')\n",
        "X_test = X_test.astype('float32')\n"
      ],
      "execution_count": null,
      "outputs": []
    },
    {
      "cell_type": "code",
      "metadata": {
        "id": "uCBX7x7Iy8EK",
        "colab_type": "code",
        "colab": {
          "base_uri": "https://localhost:8080/",
          "height": 54
        },
        "outputId": "172cf158-b50b-44b3-f618-8187d774c321"
      },
      "source": [
        "X_train /= 255     # rescaling or normalizing\n",
        "X_test /= 255\n",
        "\n",
        "print(X_train.shape[0], 'train samples')\n",
        "print(X_test.shape[0], 'test samples')"
      ],
      "execution_count": null,
      "outputs": [
        {
          "output_type": "stream",
          "text": [
            "60000 train samples\n",
            "10000 test samples\n"
          ],
          "name": "stdout"
        }
      ]
    },
    {
      "cell_type": "code",
      "metadata": {
        "id": "hoQyEigIzdOn",
        "colab_type": "code",
        "colab": {}
      },
      "source": [
        "Y_train = np_utils.to_categorical(y_train, NB_CLASSES)    # encode to_categorical variable\n",
        "Y_test = np_utils.to_categorical(y_test, NB_CLASSES)"
      ],
      "execution_count": null,
      "outputs": []
    },
    {
      "cell_type": "code",
      "metadata": {
        "id": "pxJlRDztz5uD",
        "colab_type": "code",
        "colab": {
          "base_uri": "https://localhost:8080/",
          "height": 237
        },
        "outputId": "2a1f0aaf-df00-471b-b27e-b219c18eac6d"
      },
      "source": [
        "model = Sequential()\n",
        "model.add(Dense(NB_CLASSES,input_shape=(RESHAPED,)))\n",
        "model.add(Activation('softmax'))\n",
        "model.summary()"
      ],
      "execution_count": null,
      "outputs": [
        {
          "output_type": "stream",
          "text": [
            "Model: \"sequential_1\"\n",
            "_________________________________________________________________\n",
            "Layer (type)                 Output Shape              Param #   \n",
            "=================================================================\n",
            "dense_1 (Dense)              (None, 10)                7850      \n",
            "_________________________________________________________________\n",
            "activation_1 (Activation)    (None, 10)                0         \n",
            "=================================================================\n",
            "Total params: 7,850\n",
            "Trainable params: 7,850\n",
            "Non-trainable params: 0\n",
            "_________________________________________________________________\n"
          ],
          "name": "stdout"
        }
      ]
    },
    {
      "cell_type": "code",
      "metadata": {
        "id": "LD1YMkeD2aKM",
        "colab_type": "code",
        "colab": {}
      },
      "source": [
        "model.compile(loss='categorical_crossentropy',optimizer=OPTIMIZER,\n",
        "              metrics=['accuracy'])"
      ],
      "execution_count": null,
      "outputs": []
    },
    {
      "cell_type": "code",
      "metadata": {
        "id": "Hxvx0wou38n1",
        "colab_type": "code",
        "colab": {
          "base_uri": "https://localhost:8080/",
          "height": 1000
        },
        "outputId": "c459c10e-49b9-41a8-9aaa-c97bdd8eb116"
      },
      "source": [
        "history = model.fit(X_train, Y_train, batch_size=BATCH_SIZE, epochs= NB_EPOCH,\n",
        "                    verbose=VERBOSE, validation_split=VALIDATION_SPLIT)"
      ],
      "execution_count": null,
      "outputs": [
        {
          "output_type": "stream",
          "text": [
            "Train on 48000 samples, validate on 12000 samples\n",
            "Epoch 1/200\n",
            "48000/48000 [==============================] - 3s 54us/step - loss: 1.3633 - accuracy: 0.6796 - val_loss: 0.8904 - val_accuracy: 0.8246\n",
            "Epoch 2/200\n",
            "48000/48000 [==============================] - 1s 20us/step - loss: 0.7913 - accuracy: 0.8272 - val_loss: 0.6572 - val_accuracy: 0.8546\n",
            "Epoch 3/200\n",
            "48000/48000 [==============================] - 1s 19us/step - loss: 0.6436 - accuracy: 0.8497 - val_loss: 0.5625 - val_accuracy: 0.8681\n",
            "Epoch 4/200\n",
            "48000/48000 [==============================] - 1s 20us/step - loss: 0.5717 - accuracy: 0.8602 - val_loss: 0.5098 - val_accuracy: 0.8765\n",
            "Epoch 5/200\n",
            "48000/48000 [==============================] - 1s 20us/step - loss: 0.5276 - accuracy: 0.8677 - val_loss: 0.4758 - val_accuracy: 0.8826\n",
            "Epoch 6/200\n",
            "48000/48000 [==============================] - 1s 19us/step - loss: 0.4973 - accuracy: 0.8726 - val_loss: 0.4515 - val_accuracy: 0.8866\n",
            "Epoch 7/200\n",
            "48000/48000 [==============================] - 1s 19us/step - loss: 0.4748 - accuracy: 0.8775 - val_loss: 0.4333 - val_accuracy: 0.8882\n",
            "Epoch 8/200\n",
            "48000/48000 [==============================] - 1s 19us/step - loss: 0.4574 - accuracy: 0.8803 - val_loss: 0.4189 - val_accuracy: 0.8920\n",
            "Epoch 9/200\n",
            "48000/48000 [==============================] - 1s 19us/step - loss: 0.4433 - accuracy: 0.8834 - val_loss: 0.4075 - val_accuracy: 0.8939\n",
            "Epoch 10/200\n",
            "48000/48000 [==============================] - 1s 19us/step - loss: 0.4317 - accuracy: 0.8850 - val_loss: 0.3977 - val_accuracy: 0.8966\n",
            "Epoch 11/200\n",
            "48000/48000 [==============================] - 1s 19us/step - loss: 0.4218 - accuracy: 0.8873 - val_loss: 0.3896 - val_accuracy: 0.8984\n",
            "Epoch 12/200\n",
            "48000/48000 [==============================] - 1s 19us/step - loss: 0.4134 - accuracy: 0.8888 - val_loss: 0.3827 - val_accuracy: 0.8995\n",
            "Epoch 13/200\n",
            "48000/48000 [==============================] - 1s 19us/step - loss: 0.4060 - accuracy: 0.8903 - val_loss: 0.3766 - val_accuracy: 0.9003\n",
            "Epoch 14/200\n",
            "48000/48000 [==============================] - 1s 19us/step - loss: 0.3995 - accuracy: 0.8918 - val_loss: 0.3712 - val_accuracy: 0.9013\n",
            "Epoch 15/200\n",
            "48000/48000 [==============================] - 1s 20us/step - loss: 0.3936 - accuracy: 0.8928 - val_loss: 0.3664 - val_accuracy: 0.9016\n",
            "Epoch 16/200\n",
            "48000/48000 [==============================] - 1s 19us/step - loss: 0.3884 - accuracy: 0.8945 - val_loss: 0.3621 - val_accuracy: 0.9031\n",
            "Epoch 17/200\n",
            "48000/48000 [==============================] - 1s 19us/step - loss: 0.3837 - accuracy: 0.8950 - val_loss: 0.3582 - val_accuracy: 0.9032\n",
            "Epoch 18/200\n",
            "48000/48000 [==============================] - 1s 19us/step - loss: 0.3794 - accuracy: 0.8962 - val_loss: 0.3546 - val_accuracy: 0.9039\n",
            "Epoch 19/200\n",
            "48000/48000 [==============================] - 1s 19us/step - loss: 0.3755 - accuracy: 0.8970 - val_loss: 0.3514 - val_accuracy: 0.9048\n",
            "Epoch 20/200\n",
            "48000/48000 [==============================] - 1s 19us/step - loss: 0.3718 - accuracy: 0.8979 - val_loss: 0.3485 - val_accuracy: 0.9053\n",
            "Epoch 21/200\n",
            "48000/48000 [==============================] - 1s 19us/step - loss: 0.3685 - accuracy: 0.8985 - val_loss: 0.3457 - val_accuracy: 0.9058\n",
            "Epoch 22/200\n",
            "48000/48000 [==============================] - 1s 19us/step - loss: 0.3653 - accuracy: 0.8995 - val_loss: 0.3431 - val_accuracy: 0.9057\n",
            "Epoch 23/200\n",
            "48000/48000 [==============================] - 1s 19us/step - loss: 0.3625 - accuracy: 0.8999 - val_loss: 0.3407 - val_accuracy: 0.9063\n",
            "Epoch 24/200\n",
            "48000/48000 [==============================] - 1s 19us/step - loss: 0.3598 - accuracy: 0.9008 - val_loss: 0.3385 - val_accuracy: 0.9070\n",
            "Epoch 25/200\n",
            "48000/48000 [==============================] - 1s 19us/step - loss: 0.3572 - accuracy: 0.9012 - val_loss: 0.3364 - val_accuracy: 0.9074\n",
            "Epoch 26/200\n",
            "48000/48000 [==============================] - 1s 19us/step - loss: 0.3548 - accuracy: 0.9019 - val_loss: 0.3345 - val_accuracy: 0.9084\n",
            "Epoch 27/200\n",
            "48000/48000 [==============================] - 1s 19us/step - loss: 0.3525 - accuracy: 0.9022 - val_loss: 0.3326 - val_accuracy: 0.9082\n",
            "Epoch 28/200\n",
            "48000/48000 [==============================] - 1s 19us/step - loss: 0.3504 - accuracy: 0.9032 - val_loss: 0.3311 - val_accuracy: 0.9090\n",
            "Epoch 29/200\n",
            "48000/48000 [==============================] - 1s 20us/step - loss: 0.3484 - accuracy: 0.9031 - val_loss: 0.3293 - val_accuracy: 0.9094\n",
            "Epoch 30/200\n",
            "48000/48000 [==============================] - 1s 19us/step - loss: 0.3465 - accuracy: 0.9041 - val_loss: 0.3277 - val_accuracy: 0.9097\n",
            "Epoch 31/200\n",
            "48000/48000 [==============================] - 1s 19us/step - loss: 0.3447 - accuracy: 0.9044 - val_loss: 0.3264 - val_accuracy: 0.9097\n",
            "Epoch 32/200\n",
            "48000/48000 [==============================] - 1s 19us/step - loss: 0.3430 - accuracy: 0.9047 - val_loss: 0.3249 - val_accuracy: 0.9097\n",
            "Epoch 33/200\n",
            "48000/48000 [==============================] - 1s 19us/step - loss: 0.3413 - accuracy: 0.9051 - val_loss: 0.3235 - val_accuracy: 0.9103\n",
            "Epoch 34/200\n",
            "48000/48000 [==============================] - 1s 19us/step - loss: 0.3397 - accuracy: 0.9056 - val_loss: 0.3222 - val_accuracy: 0.9104\n",
            "Epoch 35/200\n",
            "48000/48000 [==============================] - 1s 19us/step - loss: 0.3382 - accuracy: 0.9058 - val_loss: 0.3211 - val_accuracy: 0.9110\n",
            "Epoch 36/200\n",
            "48000/48000 [==============================] - 1s 19us/step - loss: 0.3368 - accuracy: 0.9062 - val_loss: 0.3198 - val_accuracy: 0.9110\n",
            "Epoch 37/200\n",
            "48000/48000 [==============================] - 1s 19us/step - loss: 0.3353 - accuracy: 0.9069 - val_loss: 0.3187 - val_accuracy: 0.9117\n",
            "Epoch 38/200\n",
            "48000/48000 [==============================] - 1s 20us/step - loss: 0.3340 - accuracy: 0.9075 - val_loss: 0.3177 - val_accuracy: 0.9120\n",
            "Epoch 39/200\n",
            "48000/48000 [==============================] - 1s 19us/step - loss: 0.3327 - accuracy: 0.9075 - val_loss: 0.3166 - val_accuracy: 0.9122\n",
            "Epoch 40/200\n",
            "48000/48000 [==============================] - 1s 19us/step - loss: 0.3314 - accuracy: 0.9078 - val_loss: 0.3159 - val_accuracy: 0.9118\n",
            "Epoch 41/200\n",
            "48000/48000 [==============================] - 1s 19us/step - loss: 0.3303 - accuracy: 0.9080 - val_loss: 0.3147 - val_accuracy: 0.9128\n",
            "Epoch 42/200\n",
            "48000/48000 [==============================] - 1s 19us/step - loss: 0.3291 - accuracy: 0.9084 - val_loss: 0.3138 - val_accuracy: 0.9132\n",
            "Epoch 43/200\n",
            "48000/48000 [==============================] - 1s 19us/step - loss: 0.3280 - accuracy: 0.9089 - val_loss: 0.3130 - val_accuracy: 0.9132\n",
            "Epoch 44/200\n",
            "48000/48000 [==============================] - 1s 19us/step - loss: 0.3270 - accuracy: 0.9091 - val_loss: 0.3121 - val_accuracy: 0.9132\n",
            "Epoch 45/200\n",
            "48000/48000 [==============================] - 1s 19us/step - loss: 0.3259 - accuracy: 0.9093 - val_loss: 0.3113 - val_accuracy: 0.9135\n",
            "Epoch 46/200\n",
            "48000/48000 [==============================] - 1s 19us/step - loss: 0.3249 - accuracy: 0.9095 - val_loss: 0.3105 - val_accuracy: 0.9137\n",
            "Epoch 47/200\n",
            "48000/48000 [==============================] - 1s 19us/step - loss: 0.3239 - accuracy: 0.9105 - val_loss: 0.3098 - val_accuracy: 0.9141\n",
            "Epoch 48/200\n",
            "48000/48000 [==============================] - 1s 19us/step - loss: 0.3230 - accuracy: 0.9105 - val_loss: 0.3090 - val_accuracy: 0.9146\n",
            "Epoch 49/200\n",
            "48000/48000 [==============================] - 1s 20us/step - loss: 0.3221 - accuracy: 0.9102 - val_loss: 0.3083 - val_accuracy: 0.9151\n",
            "Epoch 50/200\n",
            "48000/48000 [==============================] - 1s 19us/step - loss: 0.3212 - accuracy: 0.9109 - val_loss: 0.3075 - val_accuracy: 0.9150\n",
            "Epoch 51/200\n",
            "48000/48000 [==============================] - 1s 19us/step - loss: 0.3204 - accuracy: 0.9108 - val_loss: 0.3070 - val_accuracy: 0.9151\n",
            "Epoch 52/200\n",
            "48000/48000 [==============================] - 1s 19us/step - loss: 0.3195 - accuracy: 0.9112 - val_loss: 0.3063 - val_accuracy: 0.9148\n",
            "Epoch 53/200\n",
            "48000/48000 [==============================] - 1s 19us/step - loss: 0.3187 - accuracy: 0.9114 - val_loss: 0.3057 - val_accuracy: 0.9153\n",
            "Epoch 54/200\n",
            "48000/48000 [==============================] - 1s 19us/step - loss: 0.3180 - accuracy: 0.9117 - val_loss: 0.3050 - val_accuracy: 0.9149\n",
            "Epoch 55/200\n",
            "48000/48000 [==============================] - 1s 19us/step - loss: 0.3172 - accuracy: 0.9121 - val_loss: 0.3044 - val_accuracy: 0.9149\n",
            "Epoch 56/200\n",
            "48000/48000 [==============================] - 1s 19us/step - loss: 0.3164 - accuracy: 0.9120 - val_loss: 0.3037 - val_accuracy: 0.9156\n",
            "Epoch 57/200\n",
            "48000/48000 [==============================] - 1s 19us/step - loss: 0.3157 - accuracy: 0.9128 - val_loss: 0.3034 - val_accuracy: 0.9152\n",
            "Epoch 58/200\n",
            "48000/48000 [==============================] - 1s 19us/step - loss: 0.3149 - accuracy: 0.9121 - val_loss: 0.3029 - val_accuracy: 0.9148\n",
            "Epoch 59/200\n",
            "48000/48000 [==============================] - 1s 19us/step - loss: 0.3143 - accuracy: 0.9128 - val_loss: 0.3022 - val_accuracy: 0.9151\n",
            "Epoch 60/200\n",
            "48000/48000 [==============================] - 1s 19us/step - loss: 0.3136 - accuracy: 0.9129 - val_loss: 0.3016 - val_accuracy: 0.9161\n",
            "Epoch 61/200\n",
            "48000/48000 [==============================] - 1s 19us/step - loss: 0.3130 - accuracy: 0.9132 - val_loss: 0.3011 - val_accuracy: 0.9158\n",
            "Epoch 62/200\n",
            "48000/48000 [==============================] - 1s 19us/step - loss: 0.3123 - accuracy: 0.9131 - val_loss: 0.3007 - val_accuracy: 0.9152\n",
            "Epoch 63/200\n",
            "48000/48000 [==============================] - 1s 19us/step - loss: 0.3117 - accuracy: 0.9135 - val_loss: 0.3003 - val_accuracy: 0.9157\n",
            "Epoch 64/200\n",
            "48000/48000 [==============================] - 1s 19us/step - loss: 0.3111 - accuracy: 0.9136 - val_loss: 0.2997 - val_accuracy: 0.9158\n",
            "Epoch 65/200\n",
            "48000/48000 [==============================] - 1s 19us/step - loss: 0.3105 - accuracy: 0.9137 - val_loss: 0.2992 - val_accuracy: 0.9159\n",
            "Epoch 66/200\n",
            "48000/48000 [==============================] - 1s 19us/step - loss: 0.3099 - accuracy: 0.9138 - val_loss: 0.2988 - val_accuracy: 0.9159\n",
            "Epoch 67/200\n",
            "48000/48000 [==============================] - 1s 19us/step - loss: 0.3093 - accuracy: 0.9142 - val_loss: 0.2984 - val_accuracy: 0.9164\n",
            "Epoch 68/200\n",
            "48000/48000 [==============================] - 1s 20us/step - loss: 0.3088 - accuracy: 0.9139 - val_loss: 0.2979 - val_accuracy: 0.9166\n",
            "Epoch 69/200\n",
            "48000/48000 [==============================] - 1s 19us/step - loss: 0.3082 - accuracy: 0.9143 - val_loss: 0.2976 - val_accuracy: 0.9165\n",
            "Epoch 70/200\n",
            "48000/48000 [==============================] - 1s 19us/step - loss: 0.3077 - accuracy: 0.9145 - val_loss: 0.2971 - val_accuracy: 0.9167\n",
            "Epoch 71/200\n",
            "48000/48000 [==============================] - 1s 19us/step - loss: 0.3071 - accuracy: 0.9146 - val_loss: 0.2967 - val_accuracy: 0.9172\n",
            "Epoch 72/200\n",
            "48000/48000 [==============================] - 1s 20us/step - loss: 0.3067 - accuracy: 0.9146 - val_loss: 0.2964 - val_accuracy: 0.9167\n",
            "Epoch 73/200\n",
            "48000/48000 [==============================] - 1s 19us/step - loss: 0.3061 - accuracy: 0.9150 - val_loss: 0.2961 - val_accuracy: 0.9170\n",
            "Epoch 74/200\n",
            "48000/48000 [==============================] - 1s 19us/step - loss: 0.3056 - accuracy: 0.9150 - val_loss: 0.2956 - val_accuracy: 0.9171\n",
            "Epoch 75/200\n",
            "48000/48000 [==============================] - 1s 19us/step - loss: 0.3051 - accuracy: 0.9151 - val_loss: 0.2953 - val_accuracy: 0.9178\n",
            "Epoch 76/200\n",
            "48000/48000 [==============================] - 1s 19us/step - loss: 0.3047 - accuracy: 0.9152 - val_loss: 0.2950 - val_accuracy: 0.9173\n",
            "Epoch 77/200\n",
            "48000/48000 [==============================] - 1s 19us/step - loss: 0.3042 - accuracy: 0.9154 - val_loss: 0.2946 - val_accuracy: 0.9171\n",
            "Epoch 78/200\n",
            "48000/48000 [==============================] - 1s 19us/step - loss: 0.3037 - accuracy: 0.9154 - val_loss: 0.2943 - val_accuracy: 0.9177\n",
            "Epoch 79/200\n",
            "48000/48000 [==============================] - 1s 19us/step - loss: 0.3033 - accuracy: 0.9157 - val_loss: 0.2939 - val_accuracy: 0.9178\n",
            "Epoch 80/200\n",
            "48000/48000 [==============================] - 1s 20us/step - loss: 0.3029 - accuracy: 0.9156 - val_loss: 0.2936 - val_accuracy: 0.9179\n",
            "Epoch 81/200\n",
            "48000/48000 [==============================] - 1s 19us/step - loss: 0.3024 - accuracy: 0.9157 - val_loss: 0.2933 - val_accuracy: 0.9180\n",
            "Epoch 82/200\n",
            "48000/48000 [==============================] - 1s 19us/step - loss: 0.3020 - accuracy: 0.9158 - val_loss: 0.2930 - val_accuracy: 0.9181\n",
            "Epoch 83/200\n",
            "48000/48000 [==============================] - 1s 20us/step - loss: 0.3015 - accuracy: 0.9160 - val_loss: 0.2927 - val_accuracy: 0.9182\n",
            "Epoch 84/200\n",
            "48000/48000 [==============================] - 1s 19us/step - loss: 0.3011 - accuracy: 0.9160 - val_loss: 0.2924 - val_accuracy: 0.9183\n",
            "Epoch 85/200\n",
            "48000/48000 [==============================] - 1s 19us/step - loss: 0.3007 - accuracy: 0.9165 - val_loss: 0.2920 - val_accuracy: 0.9184\n",
            "Epoch 86/200\n",
            "48000/48000 [==============================] - 1s 19us/step - loss: 0.3003 - accuracy: 0.9164 - val_loss: 0.2918 - val_accuracy: 0.9186\n",
            "Epoch 87/200\n",
            "48000/48000 [==============================] - 1s 19us/step - loss: 0.3000 - accuracy: 0.9165 - val_loss: 0.2915 - val_accuracy: 0.9187\n",
            "Epoch 88/200\n",
            "48000/48000 [==============================] - 1s 19us/step - loss: 0.2996 - accuracy: 0.9168 - val_loss: 0.2911 - val_accuracy: 0.9190\n",
            "Epoch 89/200\n",
            "48000/48000 [==============================] - 1s 20us/step - loss: 0.2992 - accuracy: 0.9168 - val_loss: 0.2909 - val_accuracy: 0.9191\n",
            "Epoch 90/200\n",
            "48000/48000 [==============================] - 1s 19us/step - loss: 0.2988 - accuracy: 0.9170 - val_loss: 0.2907 - val_accuracy: 0.9191\n",
            "Epoch 91/200\n",
            "48000/48000 [==============================] - 1s 19us/step - loss: 0.2985 - accuracy: 0.9167 - val_loss: 0.2903 - val_accuracy: 0.9193\n",
            "Epoch 92/200\n",
            "48000/48000 [==============================] - 1s 20us/step - loss: 0.2981 - accuracy: 0.9170 - val_loss: 0.2901 - val_accuracy: 0.9196\n",
            "Epoch 93/200\n",
            "48000/48000 [==============================] - 1s 19us/step - loss: 0.2977 - accuracy: 0.9171 - val_loss: 0.2898 - val_accuracy: 0.9196\n",
            "Epoch 94/200\n",
            "48000/48000 [==============================] - 1s 19us/step - loss: 0.2974 - accuracy: 0.9172 - val_loss: 0.2896 - val_accuracy: 0.9196\n",
            "Epoch 95/200\n",
            "48000/48000 [==============================] - 1s 20us/step - loss: 0.2970 - accuracy: 0.9174 - val_loss: 0.2894 - val_accuracy: 0.9196\n",
            "Epoch 96/200\n",
            "48000/48000 [==============================] - 1s 19us/step - loss: 0.2967 - accuracy: 0.9174 - val_loss: 0.2891 - val_accuracy: 0.9198\n",
            "Epoch 97/200\n",
            "48000/48000 [==============================] - 1s 19us/step - loss: 0.2964 - accuracy: 0.9177 - val_loss: 0.2889 - val_accuracy: 0.9197\n",
            "Epoch 98/200\n",
            "48000/48000 [==============================] - 1s 19us/step - loss: 0.2960 - accuracy: 0.9174 - val_loss: 0.2886 - val_accuracy: 0.9201\n",
            "Epoch 99/200\n",
            "48000/48000 [==============================] - 1s 19us/step - loss: 0.2957 - accuracy: 0.9176 - val_loss: 0.2884 - val_accuracy: 0.9200\n",
            "Epoch 100/200\n",
            "48000/48000 [==============================] - 1s 19us/step - loss: 0.2954 - accuracy: 0.9178 - val_loss: 0.2882 - val_accuracy: 0.9202\n",
            "Epoch 101/200\n",
            "48000/48000 [==============================] - 1s 19us/step - loss: 0.2951 - accuracy: 0.9179 - val_loss: 0.2879 - val_accuracy: 0.9202\n",
            "Epoch 102/200\n",
            "48000/48000 [==============================] - 1s 20us/step - loss: 0.2948 - accuracy: 0.9179 - val_loss: 0.2877 - val_accuracy: 0.9202\n",
            "Epoch 103/200\n",
            "48000/48000 [==============================] - 1s 19us/step - loss: 0.2945 - accuracy: 0.9180 - val_loss: 0.2876 - val_accuracy: 0.9202\n",
            "Epoch 104/200\n",
            "48000/48000 [==============================] - 1s 20us/step - loss: 0.2941 - accuracy: 0.9183 - val_loss: 0.2874 - val_accuracy: 0.9202\n",
            "Epoch 105/200\n",
            "48000/48000 [==============================] - 1s 19us/step - loss: 0.2939 - accuracy: 0.9183 - val_loss: 0.2871 - val_accuracy: 0.9205\n",
            "Epoch 106/200\n",
            "48000/48000 [==============================] - 1s 19us/step - loss: 0.2936 - accuracy: 0.9183 - val_loss: 0.2869 - val_accuracy: 0.9202\n",
            "Epoch 107/200\n",
            "48000/48000 [==============================] - 1s 19us/step - loss: 0.2932 - accuracy: 0.9186 - val_loss: 0.2867 - val_accuracy: 0.9206\n",
            "Epoch 108/200\n",
            "48000/48000 [==============================] - 1s 19us/step - loss: 0.2930 - accuracy: 0.9185 - val_loss: 0.2864 - val_accuracy: 0.9209\n",
            "Epoch 109/200\n",
            "48000/48000 [==============================] - 1s 19us/step - loss: 0.2927 - accuracy: 0.9185 - val_loss: 0.2863 - val_accuracy: 0.9204\n",
            "Epoch 110/200\n",
            "48000/48000 [==============================] - 1s 19us/step - loss: 0.2924 - accuracy: 0.9187 - val_loss: 0.2861 - val_accuracy: 0.9204\n",
            "Epoch 111/200\n",
            "48000/48000 [==============================] - 1s 19us/step - loss: 0.2922 - accuracy: 0.9183 - val_loss: 0.2858 - val_accuracy: 0.9209\n",
            "Epoch 112/200\n",
            "48000/48000 [==============================] - 1s 19us/step - loss: 0.2919 - accuracy: 0.9187 - val_loss: 0.2857 - val_accuracy: 0.9207\n",
            "Epoch 113/200\n",
            "48000/48000 [==============================] - 1s 19us/step - loss: 0.2916 - accuracy: 0.9189 - val_loss: 0.2855 - val_accuracy: 0.9210\n",
            "Epoch 114/200\n",
            "48000/48000 [==============================] - 1s 20us/step - loss: 0.2913 - accuracy: 0.9188 - val_loss: 0.2853 - val_accuracy: 0.9212\n",
            "Epoch 115/200\n",
            "48000/48000 [==============================] - 1s 19us/step - loss: 0.2911 - accuracy: 0.9189 - val_loss: 0.2853 - val_accuracy: 0.9206\n",
            "Epoch 116/200\n",
            "48000/48000 [==============================] - 1s 19us/step - loss: 0.2908 - accuracy: 0.9190 - val_loss: 0.2849 - val_accuracy: 0.9213\n",
            "Epoch 117/200\n",
            "48000/48000 [==============================] - 1s 20us/step - loss: 0.2906 - accuracy: 0.9193 - val_loss: 0.2848 - val_accuracy: 0.9214\n",
            "Epoch 118/200\n",
            "48000/48000 [==============================] - 1s 20us/step - loss: 0.2903 - accuracy: 0.9193 - val_loss: 0.2846 - val_accuracy: 0.9213\n",
            "Epoch 119/200\n",
            "48000/48000 [==============================] - 1s 20us/step - loss: 0.2901 - accuracy: 0.9193 - val_loss: 0.2845 - val_accuracy: 0.9211\n",
            "Epoch 120/200\n",
            "48000/48000 [==============================] - 1s 19us/step - loss: 0.2898 - accuracy: 0.9192 - val_loss: 0.2843 - val_accuracy: 0.9213\n",
            "Epoch 121/200\n",
            "48000/48000 [==============================] - 1s 19us/step - loss: 0.2896 - accuracy: 0.9191 - val_loss: 0.2841 - val_accuracy: 0.9212\n",
            "Epoch 122/200\n",
            "48000/48000 [==============================] - 1s 19us/step - loss: 0.2893 - accuracy: 0.9192 - val_loss: 0.2840 - val_accuracy: 0.9212\n",
            "Epoch 123/200\n",
            "48000/48000 [==============================] - 1s 19us/step - loss: 0.2891 - accuracy: 0.9194 - val_loss: 0.2839 - val_accuracy: 0.9211\n",
            "Epoch 124/200\n",
            "48000/48000 [==============================] - 1s 19us/step - loss: 0.2888 - accuracy: 0.9197 - val_loss: 0.2837 - val_accuracy: 0.9210\n",
            "Epoch 125/200\n",
            "48000/48000 [==============================] - 1s 19us/step - loss: 0.2886 - accuracy: 0.9193 - val_loss: 0.2835 - val_accuracy: 0.9207\n",
            "Epoch 126/200\n",
            "48000/48000 [==============================] - 1s 19us/step - loss: 0.2884 - accuracy: 0.9196 - val_loss: 0.2834 - val_accuracy: 0.9218\n",
            "Epoch 127/200\n",
            "48000/48000 [==============================] - 1s 19us/step - loss: 0.2882 - accuracy: 0.9194 - val_loss: 0.2833 - val_accuracy: 0.9211\n",
            "Epoch 128/200\n",
            "48000/48000 [==============================] - 1s 20us/step - loss: 0.2879 - accuracy: 0.9194 - val_loss: 0.2830 - val_accuracy: 0.9211\n",
            "Epoch 129/200\n",
            "48000/48000 [==============================] - 1s 21us/step - loss: 0.2877 - accuracy: 0.9196 - val_loss: 0.2828 - val_accuracy: 0.9216\n",
            "Epoch 130/200\n",
            "48000/48000 [==============================] - 1s 20us/step - loss: 0.2875 - accuracy: 0.9197 - val_loss: 0.2827 - val_accuracy: 0.9215\n",
            "Epoch 131/200\n",
            "48000/48000 [==============================] - 1s 21us/step - loss: 0.2872 - accuracy: 0.9199 - val_loss: 0.2827 - val_accuracy: 0.9211\n",
            "Epoch 132/200\n",
            "48000/48000 [==============================] - 1s 20us/step - loss: 0.2870 - accuracy: 0.9196 - val_loss: 0.2824 - val_accuracy: 0.9213\n",
            "Epoch 133/200\n",
            "48000/48000 [==============================] - 1s 20us/step - loss: 0.2868 - accuracy: 0.9197 - val_loss: 0.2823 - val_accuracy: 0.9216\n",
            "Epoch 134/200\n",
            "48000/48000 [==============================] - 1s 19us/step - loss: 0.2866 - accuracy: 0.9198 - val_loss: 0.2822 - val_accuracy: 0.9213\n",
            "Epoch 135/200\n",
            "48000/48000 [==============================] - 1s 19us/step - loss: 0.2864 - accuracy: 0.9202 - val_loss: 0.2821 - val_accuracy: 0.9215\n",
            "Epoch 136/200\n",
            "48000/48000 [==============================] - 1s 20us/step - loss: 0.2862 - accuracy: 0.9197 - val_loss: 0.2819 - val_accuracy: 0.9213\n",
            "Epoch 137/200\n",
            "48000/48000 [==============================] - 1s 19us/step - loss: 0.2860 - accuracy: 0.9198 - val_loss: 0.2818 - val_accuracy: 0.9215\n",
            "Epoch 138/200\n",
            "48000/48000 [==============================] - 1s 19us/step - loss: 0.2858 - accuracy: 0.9202 - val_loss: 0.2816 - val_accuracy: 0.9218\n",
            "Epoch 139/200\n",
            "48000/48000 [==============================] - 1s 19us/step - loss: 0.2856 - accuracy: 0.9202 - val_loss: 0.2815 - val_accuracy: 0.9217\n",
            "Epoch 140/200\n",
            "48000/48000 [==============================] - 1s 20us/step - loss: 0.2854 - accuracy: 0.9201 - val_loss: 0.2813 - val_accuracy: 0.9215\n",
            "Epoch 141/200\n",
            "48000/48000 [==============================] - 1s 19us/step - loss: 0.2852 - accuracy: 0.9203 - val_loss: 0.2812 - val_accuracy: 0.9216\n",
            "Epoch 142/200\n",
            "48000/48000 [==============================] - 1s 19us/step - loss: 0.2850 - accuracy: 0.9201 - val_loss: 0.2811 - val_accuracy: 0.9218\n",
            "Epoch 143/200\n",
            "48000/48000 [==============================] - 1s 19us/step - loss: 0.2848 - accuracy: 0.9205 - val_loss: 0.2810 - val_accuracy: 0.9219\n",
            "Epoch 144/200\n",
            "48000/48000 [==============================] - 1s 19us/step - loss: 0.2846 - accuracy: 0.9207 - val_loss: 0.2809 - val_accuracy: 0.9217\n",
            "Epoch 145/200\n",
            "48000/48000 [==============================] - 1s 19us/step - loss: 0.2845 - accuracy: 0.9208 - val_loss: 0.2807 - val_accuracy: 0.9219\n",
            "Epoch 146/200\n",
            "48000/48000 [==============================] - 1s 19us/step - loss: 0.2842 - accuracy: 0.9206 - val_loss: 0.2806 - val_accuracy: 0.9220\n",
            "Epoch 147/200\n",
            "48000/48000 [==============================] - 1s 19us/step - loss: 0.2841 - accuracy: 0.9206 - val_loss: 0.2804 - val_accuracy: 0.9218\n",
            "Epoch 148/200\n",
            "48000/48000 [==============================] - 1s 19us/step - loss: 0.2839 - accuracy: 0.9209 - val_loss: 0.2804 - val_accuracy: 0.9219\n",
            "Epoch 149/200\n",
            "48000/48000 [==============================] - 1s 19us/step - loss: 0.2837 - accuracy: 0.9209 - val_loss: 0.2802 - val_accuracy: 0.9218\n",
            "Epoch 150/200\n",
            "48000/48000 [==============================] - 1s 19us/step - loss: 0.2835 - accuracy: 0.9208 - val_loss: 0.2801 - val_accuracy: 0.9222\n",
            "Epoch 151/200\n",
            "48000/48000 [==============================] - 1s 19us/step - loss: 0.2834 - accuracy: 0.9210 - val_loss: 0.2800 - val_accuracy: 0.9225\n",
            "Epoch 152/200\n",
            "48000/48000 [==============================] - 1s 19us/step - loss: 0.2832 - accuracy: 0.9211 - val_loss: 0.2799 - val_accuracy: 0.9222\n",
            "Epoch 153/200\n",
            "48000/48000 [==============================] - 1s 19us/step - loss: 0.2830 - accuracy: 0.9207 - val_loss: 0.2797 - val_accuracy: 0.9223\n",
            "Epoch 154/200\n",
            "48000/48000 [==============================] - 1s 20us/step - loss: 0.2828 - accuracy: 0.9209 - val_loss: 0.2796 - val_accuracy: 0.9221\n",
            "Epoch 155/200\n",
            "48000/48000 [==============================] - 1s 19us/step - loss: 0.2826 - accuracy: 0.9208 - val_loss: 0.2795 - val_accuracy: 0.9223\n",
            "Epoch 156/200\n",
            "48000/48000 [==============================] - 1s 19us/step - loss: 0.2825 - accuracy: 0.9211 - val_loss: 0.2794 - val_accuracy: 0.9223\n",
            "Epoch 157/200\n",
            "48000/48000 [==============================] - 1s 20us/step - loss: 0.2823 - accuracy: 0.9211 - val_loss: 0.2793 - val_accuracy: 0.9225\n",
            "Epoch 158/200\n",
            "48000/48000 [==============================] - 1s 19us/step - loss: 0.2821 - accuracy: 0.9212 - val_loss: 0.2792 - val_accuracy: 0.9224\n",
            "Epoch 159/200\n",
            "48000/48000 [==============================] - 1s 19us/step - loss: 0.2820 - accuracy: 0.9213 - val_loss: 0.2791 - val_accuracy: 0.9223\n",
            "Epoch 160/200\n",
            "48000/48000 [==============================] - 1s 19us/step - loss: 0.2818 - accuracy: 0.9212 - val_loss: 0.2790 - val_accuracy: 0.9224\n",
            "Epoch 161/200\n",
            "48000/48000 [==============================] - 1s 19us/step - loss: 0.2816 - accuracy: 0.9213 - val_loss: 0.2789 - val_accuracy: 0.9222\n",
            "Epoch 162/200\n",
            "48000/48000 [==============================] - 1s 19us/step - loss: 0.2815 - accuracy: 0.9216 - val_loss: 0.2789 - val_accuracy: 0.9227\n",
            "Epoch 163/200\n",
            "48000/48000 [==============================] - 1s 20us/step - loss: 0.2813 - accuracy: 0.9212 - val_loss: 0.2788 - val_accuracy: 0.9224\n",
            "Epoch 164/200\n",
            "48000/48000 [==============================] - 1s 20us/step - loss: 0.2812 - accuracy: 0.9216 - val_loss: 0.2786 - val_accuracy: 0.9225\n",
            "Epoch 165/200\n",
            "48000/48000 [==============================] - 1s 19us/step - loss: 0.2810 - accuracy: 0.9215 - val_loss: 0.2785 - val_accuracy: 0.9229\n",
            "Epoch 166/200\n",
            "48000/48000 [==============================] - 1s 20us/step - loss: 0.2808 - accuracy: 0.9215 - val_loss: 0.2785 - val_accuracy: 0.9225\n",
            "Epoch 167/200\n",
            "48000/48000 [==============================] - 1s 19us/step - loss: 0.2807 - accuracy: 0.9217 - val_loss: 0.2784 - val_accuracy: 0.9227\n",
            "Epoch 168/200\n",
            "48000/48000 [==============================] - 1s 21us/step - loss: 0.2805 - accuracy: 0.9219 - val_loss: 0.2783 - val_accuracy: 0.9227\n",
            "Epoch 169/200\n",
            "48000/48000 [==============================] - 1s 22us/step - loss: 0.2804 - accuracy: 0.9217 - val_loss: 0.2782 - val_accuracy: 0.9227\n",
            "Epoch 170/200\n",
            "48000/48000 [==============================] - 1s 21us/step - loss: 0.2802 - accuracy: 0.9217 - val_loss: 0.2781 - val_accuracy: 0.9226\n",
            "Epoch 171/200\n",
            "48000/48000 [==============================] - 1s 21us/step - loss: 0.2801 - accuracy: 0.9219 - val_loss: 0.2780 - val_accuracy: 0.9226\n",
            "Epoch 172/200\n",
            "48000/48000 [==============================] - 1s 21us/step - loss: 0.2799 - accuracy: 0.9218 - val_loss: 0.2779 - val_accuracy: 0.9230\n",
            "Epoch 173/200\n",
            "48000/48000 [==============================] - 1s 22us/step - loss: 0.2798 - accuracy: 0.9216 - val_loss: 0.2778 - val_accuracy: 0.9230\n",
            "Epoch 174/200\n",
            "48000/48000 [==============================] - 1s 22us/step - loss: 0.2796 - accuracy: 0.9217 - val_loss: 0.2777 - val_accuracy: 0.9226\n",
            "Epoch 175/200\n",
            "48000/48000 [==============================] - 1s 21us/step - loss: 0.2795 - accuracy: 0.9218 - val_loss: 0.2776 - val_accuracy: 0.9229\n",
            "Epoch 176/200\n",
            "48000/48000 [==============================] - 1s 21us/step - loss: 0.2793 - accuracy: 0.9220 - val_loss: 0.2775 - val_accuracy: 0.9231\n",
            "Epoch 177/200\n",
            "48000/48000 [==============================] - 1s 22us/step - loss: 0.2792 - accuracy: 0.9219 - val_loss: 0.2774 - val_accuracy: 0.9236\n",
            "Epoch 178/200\n",
            "48000/48000 [==============================] - 1s 21us/step - loss: 0.2790 - accuracy: 0.9221 - val_loss: 0.2775 - val_accuracy: 0.9227\n",
            "Epoch 179/200\n",
            "48000/48000 [==============================] - 1s 19us/step - loss: 0.2789 - accuracy: 0.9223 - val_loss: 0.2773 - val_accuracy: 0.9235\n",
            "Epoch 180/200\n",
            "48000/48000 [==============================] - 1s 19us/step - loss: 0.2788 - accuracy: 0.9222 - val_loss: 0.2772 - val_accuracy: 0.9236\n",
            "Epoch 181/200\n",
            "48000/48000 [==============================] - 1s 20us/step - loss: 0.2786 - accuracy: 0.9224 - val_loss: 0.2771 - val_accuracy: 0.9232\n",
            "Epoch 182/200\n",
            "48000/48000 [==============================] - 1s 19us/step - loss: 0.2785 - accuracy: 0.9221 - val_loss: 0.2770 - val_accuracy: 0.9231\n",
            "Epoch 183/200\n",
            "48000/48000 [==============================] - 1s 19us/step - loss: 0.2784 - accuracy: 0.9223 - val_loss: 0.2770 - val_accuracy: 0.9229\n",
            "Epoch 184/200\n",
            "48000/48000 [==============================] - 1s 19us/step - loss: 0.2782 - accuracy: 0.9224 - val_loss: 0.2768 - val_accuracy: 0.9233\n",
            "Epoch 185/200\n",
            "48000/48000 [==============================] - 1s 20us/step - loss: 0.2781 - accuracy: 0.9224 - val_loss: 0.2768 - val_accuracy: 0.9232\n",
            "Epoch 186/200\n",
            "48000/48000 [==============================] - 1s 19us/step - loss: 0.2779 - accuracy: 0.9224 - val_loss: 0.2766 - val_accuracy: 0.9237\n",
            "Epoch 187/200\n",
            "48000/48000 [==============================] - 1s 19us/step - loss: 0.2778 - accuracy: 0.9225 - val_loss: 0.2766 - val_accuracy: 0.9233\n",
            "Epoch 188/200\n",
            "48000/48000 [==============================] - 1s 19us/step - loss: 0.2777 - accuracy: 0.9226 - val_loss: 0.2765 - val_accuracy: 0.9234\n",
            "Epoch 189/200\n",
            "48000/48000 [==============================] - 1s 19us/step - loss: 0.2775 - accuracy: 0.9226 - val_loss: 0.2765 - val_accuracy: 0.9233\n",
            "Epoch 190/200\n",
            "48000/48000 [==============================] - 1s 19us/step - loss: 0.2774 - accuracy: 0.9225 - val_loss: 0.2764 - val_accuracy: 0.9233\n",
            "Epoch 191/200\n",
            "48000/48000 [==============================] - 1s 19us/step - loss: 0.2773 - accuracy: 0.9225 - val_loss: 0.2763 - val_accuracy: 0.9237\n",
            "Epoch 192/200\n",
            "48000/48000 [==============================] - 1s 19us/step - loss: 0.2771 - accuracy: 0.9226 - val_loss: 0.2762 - val_accuracy: 0.9237\n",
            "Epoch 193/200\n",
            "48000/48000 [==============================] - 1s 19us/step - loss: 0.2771 - accuracy: 0.9227 - val_loss: 0.2761 - val_accuracy: 0.9235\n",
            "Epoch 194/200\n",
            "48000/48000 [==============================] - 1s 19us/step - loss: 0.2769 - accuracy: 0.9225 - val_loss: 0.2761 - val_accuracy: 0.9234\n",
            "Epoch 195/200\n",
            "48000/48000 [==============================] - 1s 19us/step - loss: 0.2768 - accuracy: 0.9231 - val_loss: 0.2760 - val_accuracy: 0.9238\n",
            "Epoch 196/200\n",
            "48000/48000 [==============================] - 1s 20us/step - loss: 0.2766 - accuracy: 0.9228 - val_loss: 0.2759 - val_accuracy: 0.9239\n",
            "Epoch 197/200\n",
            "48000/48000 [==============================] - 1s 19us/step - loss: 0.2765 - accuracy: 0.9228 - val_loss: 0.2759 - val_accuracy: 0.9241\n",
            "Epoch 198/200\n",
            "48000/48000 [==============================] - 1s 19us/step - loss: 0.2764 - accuracy: 0.9231 - val_loss: 0.2758 - val_accuracy: 0.9235\n",
            "Epoch 199/200\n",
            "48000/48000 [==============================] - 1s 20us/step - loss: 0.2763 - accuracy: 0.9229 - val_loss: 0.2758 - val_accuracy: 0.9240\n",
            "Epoch 200/200\n",
            "48000/48000 [==============================] - 1s 19us/step - loss: 0.2761 - accuracy: 0.9231 - val_loss: 0.2757 - val_accuracy: 0.9241\n"
          ],
          "name": "stdout"
        }
      ]
    },
    {
      "cell_type": "code",
      "metadata": {
        "id": "bIsjsEWe4h-B",
        "colab_type": "code",
        "colab": {
          "base_uri": "https://localhost:8080/",
          "height": 72
        },
        "outputId": "dafd051a-c55a-48ad-95b4-f1e66cc9c22b"
      },
      "source": [
        "score = model.evaluate(X_test, Y_test, verbose=VERBOSE)\n",
        "print('Test score:', score[0])\n",
        "print('Test accuracy:', score[1])"
      ],
      "execution_count": null,
      "outputs": [
        {
          "output_type": "stream",
          "text": [
            "10000/10000 [==============================] - 0s 45us/step\n",
            "Test score: 0.2773810026586056\n",
            "Test accuracy: 0.9225000143051147\n"
          ],
          "name": "stdout"
        }
      ]
    },
    {
      "cell_type": "code",
      "metadata": {
        "id": "eBi5h1aL5dEu",
        "colab_type": "code",
        "colab": {}
      },
      "source": [
        "# Improving the simple net in Keras with hidden layers"
      ],
      "execution_count": null,
      "outputs": []
    },
    {
      "cell_type": "code",
      "metadata": {
        "id": "TO-sWy_U89yr",
        "colab_type": "code",
        "colab": {}
      },
      "source": [
        "import numpy as np\n",
        "from keras.datasets import mnist\n",
        "from keras.models import Sequential\n",
        "from keras.layers.core import Dense, Activation\n",
        "from keras.optimizers import SGD\n",
        "from keras.utils import np_utils\n",
        "np.random.seed(1671)\n",
        "\n",
        "\n",
        "NB_EPOCH = 20\n",
        "BATCH_SIZE = 128\n",
        "VERBOSE = 1\n",
        "NB_CLASSES = 10 \n",
        "OPTIMIZER = SGD()\n",
        "N_HIDDEN = 128\n",
        "VALIDATION_SPLIT = 0.2"
      ],
      "execution_count": null,
      "outputs": []
    },
    {
      "cell_type": "code",
      "metadata": {
        "id": "XotVdBai-VTN",
        "colab_type": "code",
        "colab": {}
      },
      "source": [
        "(X_train, y_train), (X_test, y_test) = mnist.load_data()\n",
        "\n",
        "RESHAPED = 784\n",
        "\n",
        "X_train = X_train.reshape(60000,RESHAPED)\n",
        "X_test = X_test.reshape(10000, RESHAPED)\n",
        "X_train = X_train.astype('float32')\n",
        "X_test = X_test.astype('float32')"
      ],
      "execution_count": null,
      "outputs": []
    },
    {
      "cell_type": "code",
      "metadata": {
        "id": "uN-QNjQ8-efj",
        "colab_type": "code",
        "colab": {
          "base_uri": "https://localhost:8080/",
          "height": 54
        },
        "outputId": "17b6e4ed-09d5-4987-8813-1a576c54bfe3"
      },
      "source": [
        "X_train /= 255\n",
        "X_test /= 255\n",
        "\n",
        "print(X_train.shape[0], 'train samples')\n",
        "print(X_test.shape[0], 'test samples')"
      ],
      "execution_count": null,
      "outputs": [
        {
          "output_type": "stream",
          "text": [
            "60000 train samples\n",
            "10000 test samples\n"
          ],
          "name": "stdout"
        }
      ]
    },
    {
      "cell_type": "code",
      "metadata": {
        "id": "7m_vbBz4-laj",
        "colab_type": "code",
        "colab": {}
      },
      "source": [
        "Y_train = np_utils.to_categorical(y_train, NB_CLASSES)\n",
        "Y_test = np_utils.to_categorical(y_test, NB_CLASSES)"
      ],
      "execution_count": null,
      "outputs": []
    },
    {
      "cell_type": "code",
      "metadata": {
        "id": "FP7JsdQj-yS1",
        "colab_type": "code",
        "colab": {
          "base_uri": "https://localhost:8080/",
          "height": 348
        },
        "outputId": "3d4c90fd-188b-4f97-96da-f813272efca7"
      },
      "source": [
        "model = Sequential()\n",
        "model.add(Dense(N_HIDDEN,input_shape=(RESHAPED,)))\n",
        "model.add(Dense(N_HIDDEN))\n",
        "model.add(Activation('relu'))\n",
        "model.add(Dense(NB_CLASSES))\n",
        "model.add(Activation('softmax'))\n",
        "model.summary()"
      ],
      "execution_count": null,
      "outputs": [
        {
          "output_type": "stream",
          "text": [
            "Model: \"sequential_7\"\n",
            "_________________________________________________________________\n",
            "Layer (type)                 Output Shape              Param #   \n",
            "=================================================================\n",
            "dense_12 (Dense)             (None, 128)               100480    \n",
            "_________________________________________________________________\n",
            "dense_13 (Dense)             (None, 128)               16512     \n",
            "_________________________________________________________________\n",
            "activation_12 (Activation)   (None, 128)               0         \n",
            "_________________________________________________________________\n",
            "dense_14 (Dense)             (None, 10)                1290      \n",
            "_________________________________________________________________\n",
            "activation_13 (Activation)   (None, 10)                0         \n",
            "=================================================================\n",
            "Total params: 118,282\n",
            "Trainable params: 118,282\n",
            "Non-trainable params: 0\n",
            "_________________________________________________________________\n"
          ],
          "name": "stdout"
        }
      ]
    },
    {
      "cell_type": "code",
      "metadata": {
        "id": "XN_4G8qO__X_",
        "colab_type": "code",
        "colab": {}
      },
      "source": [
        "model.compile(loss='categorical_crossentropy',optimizer=OPTIMIZER,\n",
        "              metrics=['accuracy'])"
      ],
      "execution_count": null,
      "outputs": []
    },
    {
      "cell_type": "code",
      "metadata": {
        "id": "fP4zicjkANdw",
        "colab_type": "code",
        "colab": {
          "base_uri": "https://localhost:8080/",
          "height": 770
        },
        "outputId": "e011da20-b242-4d88-fe2c-d2d7e8f470bc"
      },
      "source": [
        "history = model.fit(X_train, Y_train, batch_size=BATCH_SIZE, epochs= NB_EPOCH,\n",
        "                    verbose=VERBOSE, validation_split=VALIDATION_SPLIT)"
      ],
      "execution_count": null,
      "outputs": [
        {
          "output_type": "stream",
          "text": [
            "Train on 48000 samples, validate on 12000 samples\n",
            "Epoch 1/20\n",
            "48000/48000 [==============================] - 1s 22us/step - loss: 1.1431 - accuracy: 0.7108 - val_loss: 0.5784 - val_accuracy: 0.8632\n",
            "Epoch 2/20\n",
            "48000/48000 [==============================] - 1s 21us/step - loss: 0.5064 - accuracy: 0.8669 - val_loss: 0.4061 - val_accuracy: 0.8913\n",
            "Epoch 3/20\n",
            "48000/48000 [==============================] - 1s 21us/step - loss: 0.4028 - accuracy: 0.8881 - val_loss: 0.3506 - val_accuracy: 0.9027\n",
            "Epoch 4/20\n",
            "48000/48000 [==============================] - 1s 21us/step - loss: 0.3585 - accuracy: 0.8981 - val_loss: 0.3236 - val_accuracy: 0.9078\n",
            "Epoch 5/20\n",
            "48000/48000 [==============================] - 1s 21us/step - loss: 0.3325 - accuracy: 0.9054 - val_loss: 0.3036 - val_accuracy: 0.9139\n",
            "Epoch 6/20\n",
            "48000/48000 [==============================] - 1s 21us/step - loss: 0.3143 - accuracy: 0.9100 - val_loss: 0.2906 - val_accuracy: 0.9161\n",
            "Epoch 7/20\n",
            "48000/48000 [==============================] - 1s 21us/step - loss: 0.3000 - accuracy: 0.9140 - val_loss: 0.2784 - val_accuracy: 0.9213\n",
            "Epoch 8/20\n",
            "48000/48000 [==============================] - 1s 22us/step - loss: 0.2882 - accuracy: 0.9177 - val_loss: 0.2689 - val_accuracy: 0.9222\n",
            "Epoch 9/20\n",
            "48000/48000 [==============================] - 1s 21us/step - loss: 0.2784 - accuracy: 0.9204 - val_loss: 0.2611 - val_accuracy: 0.9258\n",
            "Epoch 10/20\n",
            "48000/48000 [==============================] - 1s 21us/step - loss: 0.2693 - accuracy: 0.9233 - val_loss: 0.2543 - val_accuracy: 0.9277\n",
            "Epoch 11/20\n",
            "48000/48000 [==============================] - 1s 21us/step - loss: 0.2611 - accuracy: 0.9257 - val_loss: 0.2471 - val_accuracy: 0.9294\n",
            "Epoch 12/20\n",
            "48000/48000 [==============================] - 1s 21us/step - loss: 0.2532 - accuracy: 0.9276 - val_loss: 0.2411 - val_accuracy: 0.9312\n",
            "Epoch 13/20\n",
            "48000/48000 [==============================] - 1s 22us/step - loss: 0.2461 - accuracy: 0.9302 - val_loss: 0.2373 - val_accuracy: 0.9323\n",
            "Epoch 14/20\n",
            "48000/48000 [==============================] - 1s 21us/step - loss: 0.2396 - accuracy: 0.9321 - val_loss: 0.2305 - val_accuracy: 0.9352\n",
            "Epoch 15/20\n",
            "48000/48000 [==============================] - 1s 21us/step - loss: 0.2331 - accuracy: 0.9337 - val_loss: 0.2250 - val_accuracy: 0.9355\n",
            "Epoch 16/20\n",
            "48000/48000 [==============================] - 1s 21us/step - loss: 0.2271 - accuracy: 0.9354 - val_loss: 0.2201 - val_accuracy: 0.9378\n",
            "Epoch 17/20\n",
            "48000/48000 [==============================] - 1s 21us/step - loss: 0.2214 - accuracy: 0.9363 - val_loss: 0.2157 - val_accuracy: 0.9389\n",
            "Epoch 18/20\n",
            "48000/48000 [==============================] - 1s 22us/step - loss: 0.2158 - accuracy: 0.9386 - val_loss: 0.2116 - val_accuracy: 0.9398\n",
            "Epoch 19/20\n",
            "48000/48000 [==============================] - 1s 21us/step - loss: 0.2108 - accuracy: 0.9393 - val_loss: 0.2074 - val_accuracy: 0.9417\n",
            "Epoch 20/20\n",
            "48000/48000 [==============================] - 1s 21us/step - loss: 0.2059 - accuracy: 0.9409 - val_loss: 0.2036 - val_accuracy: 0.9431\n"
          ],
          "name": "stdout"
        }
      ]
    },
    {
      "cell_type": "code",
      "metadata": {
        "id": "sZLecfh0AlJy",
        "colab_type": "code",
        "colab": {
          "base_uri": "https://localhost:8080/",
          "height": 72
        },
        "outputId": "23578f25-e199-4c5c-dc6c-7e60add0110a"
      },
      "source": [
        "score = model.evaluate(X_test, Y_test, verbose=VERBOSE)\n",
        "print('Test score:', score[0])\n",
        "print('Test accuracy:', score[1])"
      ],
      "execution_count": null,
      "outputs": [
        {
          "output_type": "stream",
          "text": [
            "10000/10000 [==============================] - 0s 45us/step\n",
            "Test score: 0.1997135400786996\n",
            "Test accuracy: 0.9419999718666077\n"
          ],
          "name": "stdout"
        }
      ]
    },
    {
      "cell_type": "code",
      "metadata": {
        "id": "MMlImLaKBBqp",
        "colab_type": "code",
        "colab": {}
      },
      "source": [
        "# Further improving the simple net in Keras with dropout"
      ],
      "execution_count": null,
      "outputs": []
    },
    {
      "cell_type": "code",
      "metadata": {
        "id": "5XhLTC-fEhJ_",
        "colab_type": "code",
        "colab": {}
      },
      "source": [
        "import numpy as np\n",
        "from keras.datasets import mnist\n",
        "from keras.models import Sequential\n",
        "from keras.layers.core import Dense, Activation\n",
        "from keras.optimizers import SGD\n",
        "from keras.utils import np_utils\n",
        "np.random.seed(1671)\n",
        "\n",
        "\n",
        "NB_EPOCH = 250\n",
        "BATCH_SIZE = 128\n",
        "VERBOSE = 1\n",
        "NB_CLASSES = 10 \n",
        "OPTIMIZER = SGD()\n",
        "N_HIDDEN = 128\n",
        "VALIDATION_SPLIT = 0.2"
      ],
      "execution_count": null,
      "outputs": []
    },
    {
      "cell_type": "code",
      "metadata": {
        "id": "0htfY5F6EoYW",
        "colab_type": "code",
        "colab": {}
      },
      "source": [
        "DROPOUT = 0.3\n",
        "(X_train, y_train), (X_test, y_test) = mnist.load_data()\n",
        "\n",
        "RESHAPED = 784\n",
        "\n",
        "X_train = X_train.reshape(60000,RESHAPED)\n",
        "X_test = X_test.reshape(10000, RESHAPED)\n",
        "X_train = X_train.astype('float32')\n",
        "X_test = X_test.astype('float32')"
      ],
      "execution_count": null,
      "outputs": []
    },
    {
      "cell_type": "code",
      "metadata": {
        "id": "xGJj_iBQFepc",
        "colab_type": "code",
        "colab": {
          "base_uri": "https://localhost:8080/",
          "height": 54
        },
        "outputId": "cb51ee74-0c2c-4663-954c-1f6424c5c78d"
      },
      "source": [
        "X_train /= 255          # rescaling or normalizing\n",
        "X_test /= 255\n",
        "\n",
        "print(X_train.shape[0], 'train samples')\n",
        "print(X_test.shape[0], 'test samples')"
      ],
      "execution_count": null,
      "outputs": [
        {
          "output_type": "stream",
          "text": [
            "60000 train samples\n",
            "10000 test samples\n"
          ],
          "name": "stdout"
        }
      ]
    },
    {
      "cell_type": "code",
      "metadata": {
        "id": "ZETAG6wJFnpn",
        "colab_type": "code",
        "colab": {}
      },
      "source": [
        "Y_train = np_utils.to_categorical(y_train, NB_CLASSES) # encode to_categorical variable\n",
        "Y_test = np_utils.to_categorical(y_test, NB_CLASSES)"
      ],
      "execution_count": null,
      "outputs": []
    },
    {
      "cell_type": "code",
      "metadata": {
        "id": "tldja4A7Fuvi",
        "colab_type": "code",
        "colab": {
          "base_uri": "https://localhost:8080/",
          "height": 458
        },
        "outputId": "317a3289-db7e-4e6b-9598-0b03309ab34e"
      },
      "source": [
        "from keras.layers.core import Dropout\n",
        "\n",
        "model = Sequential()\n",
        "model.add(Dense(N_HIDDEN,input_shape=(RESHAPED,)))\n",
        "model.add(Activation('relu'))\n",
        "model.add(Dropout(DROPOUT))\n",
        "model.add(Dense(N_HIDDEN))\n",
        "model.add(Activation('relu'))\n",
        "model.add(Dropout(DROPOUT))\n",
        "model.add(Dense(NB_CLASSES))\n",
        "model.add(Activation('softmax'))\n",
        "model.summary()"
      ],
      "execution_count": null,
      "outputs": [
        {
          "output_type": "stream",
          "text": [
            "Model: \"sequential_10\"\n",
            "_________________________________________________________________\n",
            "Layer (type)                 Output Shape              Param #   \n",
            "=================================================================\n",
            "dense_19 (Dense)             (None, 128)               100480    \n",
            "_________________________________________________________________\n",
            "activation_18 (Activation)   (None, 128)               0         \n",
            "_________________________________________________________________\n",
            "dropout_3 (Dropout)          (None, 128)               0         \n",
            "_________________________________________________________________\n",
            "dense_20 (Dense)             (None, 128)               16512     \n",
            "_________________________________________________________________\n",
            "activation_19 (Activation)   (None, 128)               0         \n",
            "_________________________________________________________________\n",
            "dropout_4 (Dropout)          (None, 128)               0         \n",
            "_________________________________________________________________\n",
            "dense_21 (Dense)             (None, 10)                1290      \n",
            "_________________________________________________________________\n",
            "activation_20 (Activation)   (None, 10)                0         \n",
            "=================================================================\n",
            "Total params: 118,282\n",
            "Trainable params: 118,282\n",
            "Non-trainable params: 0\n",
            "_________________________________________________________________\n"
          ],
          "name": "stdout"
        }
      ]
    },
    {
      "cell_type": "code",
      "metadata": {
        "id": "tuTGsf81GRvc",
        "colab_type": "code",
        "colab": {}
      },
      "source": [
        "model.compile(loss='categorical_crossentropy',optimizer=OPTIMIZER,\n",
        "              metrics=['accuracy'])"
      ],
      "execution_count": null,
      "outputs": []
    },
    {
      "cell_type": "code",
      "metadata": {
        "id": "Cf0vIVu0GqkO",
        "colab_type": "code",
        "colab": {
          "base_uri": "https://localhost:8080/",
          "height": 1000
        },
        "outputId": "39881036-5dd5-4521-e043-21bf3279c2ab"
      },
      "source": [
        "history = model.fit(X_train, Y_train, batch_size=BATCH_SIZE, epochs= NB_EPOCH,\n",
        "                    verbose=VERBOSE, validation_split=VALIDATION_SPLIT)"
      ],
      "execution_count": null,
      "outputs": [
        {
          "output_type": "stream",
          "text": [
            "Train on 48000 samples, validate on 12000 samples\n",
            "Epoch 1/250\n",
            "48000/48000 [==============================] - 1s 26us/step - loss: 1.7353 - accuracy: 0.4469 - val_loss: 0.9341 - val_accuracy: 0.8242\n",
            "Epoch 2/250\n",
            "48000/48000 [==============================] - 1s 24us/step - loss: 0.9322 - accuracy: 0.7179 - val_loss: 0.5293 - val_accuracy: 0.8708\n",
            "Epoch 3/250\n",
            "48000/48000 [==============================] - 1s 24us/step - loss: 0.6998 - accuracy: 0.7895 - val_loss: 0.4219 - val_accuracy: 0.8893\n",
            "Epoch 4/250\n",
            "48000/48000 [==============================] - 1s 24us/step - loss: 0.5913 - accuracy: 0.8218 - val_loss: 0.3697 - val_accuracy: 0.8964\n",
            "Epoch 5/250\n",
            "48000/48000 [==============================] - 1s 24us/step - loss: 0.5329 - accuracy: 0.8403 - val_loss: 0.3366 - val_accuracy: 0.9056\n",
            "Epoch 6/250\n",
            "48000/48000 [==============================] - 1s 24us/step - loss: 0.4903 - accuracy: 0.8553 - val_loss: 0.3139 - val_accuracy: 0.9095\n",
            "Epoch 7/250\n",
            "48000/48000 [==============================] - 1s 24us/step - loss: 0.4554 - accuracy: 0.8649 - val_loss: 0.2957 - val_accuracy: 0.9128\n",
            "Epoch 8/250\n",
            "48000/48000 [==============================] - 1s 24us/step - loss: 0.4264 - accuracy: 0.8747 - val_loss: 0.2804 - val_accuracy: 0.9173\n",
            "Epoch 9/250\n",
            "48000/48000 [==============================] - 1s 24us/step - loss: 0.4156 - accuracy: 0.8760 - val_loss: 0.2692 - val_accuracy: 0.9208\n",
            "Epoch 10/250\n",
            "48000/48000 [==============================] - 1s 25us/step - loss: 0.3911 - accuracy: 0.8858 - val_loss: 0.2577 - val_accuracy: 0.9233\n",
            "Epoch 11/250\n",
            "48000/48000 [==============================] - 1s 24us/step - loss: 0.3755 - accuracy: 0.8890 - val_loss: 0.2478 - val_accuracy: 0.9258\n",
            "Epoch 12/250\n",
            "48000/48000 [==============================] - 1s 24us/step - loss: 0.3578 - accuracy: 0.8946 - val_loss: 0.2393 - val_accuracy: 0.9282\n",
            "Epoch 13/250\n",
            "48000/48000 [==============================] - 1s 24us/step - loss: 0.3501 - accuracy: 0.8956 - val_loss: 0.2318 - val_accuracy: 0.9308\n",
            "Epoch 14/250\n",
            "48000/48000 [==============================] - 1s 24us/step - loss: 0.3359 - accuracy: 0.9013 - val_loss: 0.2247 - val_accuracy: 0.9326\n",
            "Epoch 15/250\n",
            "48000/48000 [==============================] - 1s 24us/step - loss: 0.3303 - accuracy: 0.9028 - val_loss: 0.2186 - val_accuracy: 0.9333\n",
            "Epoch 16/250\n",
            "48000/48000 [==============================] - 1s 24us/step - loss: 0.3183 - accuracy: 0.9077 - val_loss: 0.2118 - val_accuracy: 0.9362\n",
            "Epoch 17/250\n",
            "48000/48000 [==============================] - 1s 23us/step - loss: 0.3065 - accuracy: 0.9112 - val_loss: 0.2063 - val_accuracy: 0.9374\n",
            "Epoch 18/250\n",
            "48000/48000 [==============================] - 1s 24us/step - loss: 0.3011 - accuracy: 0.9121 - val_loss: 0.2010 - val_accuracy: 0.9397\n",
            "Epoch 19/250\n",
            "48000/48000 [==============================] - 1s 24us/step - loss: 0.2932 - accuracy: 0.9145 - val_loss: 0.1948 - val_accuracy: 0.9414\n",
            "Epoch 20/250\n",
            "48000/48000 [==============================] - 1s 24us/step - loss: 0.2865 - accuracy: 0.9156 - val_loss: 0.1912 - val_accuracy: 0.9430\n",
            "Epoch 21/250\n",
            "48000/48000 [==============================] - 1s 24us/step - loss: 0.2791 - accuracy: 0.9180 - val_loss: 0.1871 - val_accuracy: 0.9439\n",
            "Epoch 22/250\n",
            "48000/48000 [==============================] - 1s 24us/step - loss: 0.2732 - accuracy: 0.9197 - val_loss: 0.1826 - val_accuracy: 0.9460\n",
            "Epoch 23/250\n",
            "48000/48000 [==============================] - 1s 24us/step - loss: 0.2676 - accuracy: 0.9218 - val_loss: 0.1788 - val_accuracy: 0.9477\n",
            "Epoch 24/250\n",
            "48000/48000 [==============================] - 1s 24us/step - loss: 0.2620 - accuracy: 0.9234 - val_loss: 0.1761 - val_accuracy: 0.9482\n",
            "Epoch 25/250\n",
            "48000/48000 [==============================] - 1s 24us/step - loss: 0.2585 - accuracy: 0.9239 - val_loss: 0.1720 - val_accuracy: 0.9500\n",
            "Epoch 26/250\n",
            "48000/48000 [==============================] - 1s 24us/step - loss: 0.2540 - accuracy: 0.9248 - val_loss: 0.1690 - val_accuracy: 0.9504\n",
            "Epoch 27/250\n",
            "48000/48000 [==============================] - 1s 24us/step - loss: 0.2442 - accuracy: 0.9286 - val_loss: 0.1660 - val_accuracy: 0.9517\n",
            "Epoch 28/250\n",
            "48000/48000 [==============================] - 1s 23us/step - loss: 0.2416 - accuracy: 0.9284 - val_loss: 0.1627 - val_accuracy: 0.9526\n",
            "Epoch 29/250\n",
            "48000/48000 [==============================] - 1s 24us/step - loss: 0.2369 - accuracy: 0.9307 - val_loss: 0.1599 - val_accuracy: 0.9532\n",
            "Epoch 30/250\n",
            "48000/48000 [==============================] - 1s 24us/step - loss: 0.2358 - accuracy: 0.9308 - val_loss: 0.1576 - val_accuracy: 0.9543\n",
            "Epoch 31/250\n",
            "48000/48000 [==============================] - 1s 24us/step - loss: 0.2289 - accuracy: 0.9329 - val_loss: 0.1550 - val_accuracy: 0.9548\n",
            "Epoch 32/250\n",
            "48000/48000 [==============================] - 1s 24us/step - loss: 0.2221 - accuracy: 0.9333 - val_loss: 0.1527 - val_accuracy: 0.9563\n",
            "Epoch 33/250\n",
            "48000/48000 [==============================] - 1s 24us/step - loss: 0.2210 - accuracy: 0.9356 - val_loss: 0.1499 - val_accuracy: 0.9565\n",
            "Epoch 34/250\n",
            "48000/48000 [==============================] - 1s 24us/step - loss: 0.2177 - accuracy: 0.9350 - val_loss: 0.1476 - val_accuracy: 0.9572\n",
            "Epoch 35/250\n",
            "48000/48000 [==============================] - 1s 24us/step - loss: 0.2162 - accuracy: 0.9357 - val_loss: 0.1459 - val_accuracy: 0.9572\n",
            "Epoch 36/250\n",
            "48000/48000 [==============================] - 1s 24us/step - loss: 0.2118 - accuracy: 0.9374 - val_loss: 0.1441 - val_accuracy: 0.9578\n",
            "Epoch 37/250\n",
            "48000/48000 [==============================] - 1s 24us/step - loss: 0.2106 - accuracy: 0.9385 - val_loss: 0.1418 - val_accuracy: 0.9579\n",
            "Epoch 38/250\n",
            "48000/48000 [==============================] - 1s 24us/step - loss: 0.2044 - accuracy: 0.9388 - val_loss: 0.1396 - val_accuracy: 0.9592\n",
            "Epoch 39/250\n",
            "48000/48000 [==============================] - 1s 24us/step - loss: 0.2033 - accuracy: 0.9411 - val_loss: 0.1389 - val_accuracy: 0.9594\n",
            "Epoch 40/250\n",
            "48000/48000 [==============================] - 1s 24us/step - loss: 0.1988 - accuracy: 0.9411 - val_loss: 0.1373 - val_accuracy: 0.9597\n",
            "Epoch 41/250\n",
            "48000/48000 [==============================] - 1s 23us/step - loss: 0.1995 - accuracy: 0.9416 - val_loss: 0.1359 - val_accuracy: 0.9597\n",
            "Epoch 42/250\n",
            "48000/48000 [==============================] - 1s 24us/step - loss: 0.1944 - accuracy: 0.9422 - val_loss: 0.1342 - val_accuracy: 0.9600\n",
            "Epoch 43/250\n",
            "48000/48000 [==============================] - 1s 24us/step - loss: 0.1927 - accuracy: 0.9438 - val_loss: 0.1319 - val_accuracy: 0.9609\n",
            "Epoch 44/250\n",
            "48000/48000 [==============================] - 1s 24us/step - loss: 0.1912 - accuracy: 0.9444 - val_loss: 0.1311 - val_accuracy: 0.9610\n",
            "Epoch 45/250\n",
            "48000/48000 [==============================] - 1s 24us/step - loss: 0.1860 - accuracy: 0.9447 - val_loss: 0.1296 - val_accuracy: 0.9617\n",
            "Epoch 46/250\n",
            "48000/48000 [==============================] - 1s 24us/step - loss: 0.1839 - accuracy: 0.9456 - val_loss: 0.1279 - val_accuracy: 0.9625\n",
            "Epoch 47/250\n",
            "48000/48000 [==============================] - 1s 24us/step - loss: 0.1822 - accuracy: 0.9456 - val_loss: 0.1268 - val_accuracy: 0.9623\n",
            "Epoch 48/250\n",
            "48000/48000 [==============================] - 1s 24us/step - loss: 0.1825 - accuracy: 0.9469 - val_loss: 0.1258 - val_accuracy: 0.9634\n",
            "Epoch 49/250\n",
            "48000/48000 [==============================] - 1s 24us/step - loss: 0.1776 - accuracy: 0.9482 - val_loss: 0.1253 - val_accuracy: 0.9633\n",
            "Epoch 50/250\n",
            "48000/48000 [==============================] - 1s 24us/step - loss: 0.1770 - accuracy: 0.9467 - val_loss: 0.1236 - val_accuracy: 0.9642\n",
            "Epoch 51/250\n",
            "48000/48000 [==============================] - 1s 24us/step - loss: 0.1747 - accuracy: 0.9484 - val_loss: 0.1221 - val_accuracy: 0.9644\n",
            "Epoch 52/250\n",
            "48000/48000 [==============================] - 1s 24us/step - loss: 0.1774 - accuracy: 0.9470 - val_loss: 0.1215 - val_accuracy: 0.9643\n",
            "Epoch 53/250\n",
            "48000/48000 [==============================] - 1s 24us/step - loss: 0.1710 - accuracy: 0.9496 - val_loss: 0.1206 - val_accuracy: 0.9647\n",
            "Epoch 54/250\n",
            "48000/48000 [==============================] - 1s 24us/step - loss: 0.1709 - accuracy: 0.9494 - val_loss: 0.1192 - val_accuracy: 0.9655\n",
            "Epoch 55/250\n",
            "48000/48000 [==============================] - 1s 24us/step - loss: 0.1658 - accuracy: 0.9513 - val_loss: 0.1178 - val_accuracy: 0.9654\n",
            "Epoch 56/250\n",
            "48000/48000 [==============================] - 1s 24us/step - loss: 0.1699 - accuracy: 0.9499 - val_loss: 0.1181 - val_accuracy: 0.9651\n",
            "Epoch 57/250\n",
            "48000/48000 [==============================] - 1s 24us/step - loss: 0.1657 - accuracy: 0.9513 - val_loss: 0.1166 - val_accuracy: 0.9656\n",
            "Epoch 58/250\n",
            "48000/48000 [==============================] - 1s 24us/step - loss: 0.1611 - accuracy: 0.9524 - val_loss: 0.1162 - val_accuracy: 0.9661\n",
            "Epoch 59/250\n",
            "48000/48000 [==============================] - 1s 24us/step - loss: 0.1608 - accuracy: 0.9522 - val_loss: 0.1147 - val_accuracy: 0.9663\n",
            "Epoch 60/250\n",
            "48000/48000 [==============================] - 1s 25us/step - loss: 0.1587 - accuracy: 0.9536 - val_loss: 0.1137 - val_accuracy: 0.9667\n",
            "Epoch 61/250\n",
            "48000/48000 [==============================] - 1s 25us/step - loss: 0.1566 - accuracy: 0.9537 - val_loss: 0.1128 - val_accuracy: 0.9667\n",
            "Epoch 62/250\n",
            "48000/48000 [==============================] - 1s 25us/step - loss: 0.1584 - accuracy: 0.9528 - val_loss: 0.1122 - val_accuracy: 0.9672\n",
            "Epoch 63/250\n",
            "48000/48000 [==============================] - 1s 25us/step - loss: 0.1526 - accuracy: 0.9550 - val_loss: 0.1116 - val_accuracy: 0.9678\n",
            "Epoch 64/250\n",
            "48000/48000 [==============================] - 1s 25us/step - loss: 0.1524 - accuracy: 0.9544 - val_loss: 0.1111 - val_accuracy: 0.9674\n",
            "Epoch 65/250\n",
            "48000/48000 [==============================] - 1s 24us/step - loss: 0.1521 - accuracy: 0.9553 - val_loss: 0.1107 - val_accuracy: 0.9672\n",
            "Epoch 66/250\n",
            "48000/48000 [==============================] - 1s 23us/step - loss: 0.1506 - accuracy: 0.9556 - val_loss: 0.1096 - val_accuracy: 0.9675\n",
            "Epoch 67/250\n",
            "48000/48000 [==============================] - 1s 24us/step - loss: 0.1504 - accuracy: 0.9557 - val_loss: 0.1085 - val_accuracy: 0.9678\n",
            "Epoch 68/250\n",
            "48000/48000 [==============================] - 1s 23us/step - loss: 0.1481 - accuracy: 0.9572 - val_loss: 0.1079 - val_accuracy: 0.9682\n",
            "Epoch 69/250\n",
            "48000/48000 [==============================] - 1s 24us/step - loss: 0.1447 - accuracy: 0.9570 - val_loss: 0.1073 - val_accuracy: 0.9679\n",
            "Epoch 70/250\n",
            "48000/48000 [==============================] - 1s 24us/step - loss: 0.1446 - accuracy: 0.9576 - val_loss: 0.1068 - val_accuracy: 0.9684\n",
            "Epoch 71/250\n",
            "48000/48000 [==============================] - 1s 24us/step - loss: 0.1459 - accuracy: 0.9569 - val_loss: 0.1064 - val_accuracy: 0.9688\n",
            "Epoch 72/250\n",
            "48000/48000 [==============================] - 1s 24us/step - loss: 0.1453 - accuracy: 0.9562 - val_loss: 0.1052 - val_accuracy: 0.9690\n",
            "Epoch 73/250\n",
            "48000/48000 [==============================] - 1s 24us/step - loss: 0.1421 - accuracy: 0.9573 - val_loss: 0.1047 - val_accuracy: 0.9689\n",
            "Epoch 74/250\n",
            "48000/48000 [==============================] - 1s 24us/step - loss: 0.1417 - accuracy: 0.9574 - val_loss: 0.1045 - val_accuracy: 0.9691\n",
            "Epoch 75/250\n",
            "48000/48000 [==============================] - 1s 24us/step - loss: 0.1402 - accuracy: 0.9586 - val_loss: 0.1036 - val_accuracy: 0.9688\n",
            "Epoch 76/250\n",
            "48000/48000 [==============================] - 1s 24us/step - loss: 0.1390 - accuracy: 0.9589 - val_loss: 0.1032 - val_accuracy: 0.9688\n",
            "Epoch 77/250\n",
            "48000/48000 [==============================] - 1s 24us/step - loss: 0.1376 - accuracy: 0.9592 - val_loss: 0.1040 - val_accuracy: 0.9693\n",
            "Epoch 78/250\n",
            "48000/48000 [==============================] - 1s 24us/step - loss: 0.1366 - accuracy: 0.9590 - val_loss: 0.1024 - val_accuracy: 0.9694\n",
            "Epoch 79/250\n",
            "48000/48000 [==============================] - 1s 24us/step - loss: 0.1368 - accuracy: 0.9590 - val_loss: 0.1024 - val_accuracy: 0.9696\n",
            "Epoch 80/250\n",
            "48000/48000 [==============================] - 1s 24us/step - loss: 0.1366 - accuracy: 0.9589 - val_loss: 0.1021 - val_accuracy: 0.9697\n",
            "Epoch 81/250\n",
            "48000/48000 [==============================] - 1s 24us/step - loss: 0.1341 - accuracy: 0.9596 - val_loss: 0.1011 - val_accuracy: 0.9700\n",
            "Epoch 82/250\n",
            "48000/48000 [==============================] - 1s 24us/step - loss: 0.1339 - accuracy: 0.9592 - val_loss: 0.1005 - val_accuracy: 0.9700\n",
            "Epoch 83/250\n",
            "48000/48000 [==============================] - 1s 23us/step - loss: 0.1319 - accuracy: 0.9603 - val_loss: 0.0998 - val_accuracy: 0.9702\n",
            "Epoch 84/250\n",
            "48000/48000 [==============================] - 1s 24us/step - loss: 0.1308 - accuracy: 0.9596 - val_loss: 0.0995 - val_accuracy: 0.9706\n",
            "Epoch 85/250\n",
            "48000/48000 [==============================] - 1s 24us/step - loss: 0.1289 - accuracy: 0.9606 - val_loss: 0.0990 - val_accuracy: 0.9704\n",
            "Epoch 86/250\n",
            "48000/48000 [==============================] - 1s 25us/step - loss: 0.1290 - accuracy: 0.9610 - val_loss: 0.0988 - val_accuracy: 0.9708\n",
            "Epoch 87/250\n",
            "48000/48000 [==============================] - 1s 24us/step - loss: 0.1288 - accuracy: 0.9614 - val_loss: 0.0980 - val_accuracy: 0.9707\n",
            "Epoch 88/250\n",
            "48000/48000 [==============================] - 1s 24us/step - loss: 0.1273 - accuracy: 0.9622 - val_loss: 0.0981 - val_accuracy: 0.9709\n",
            "Epoch 89/250\n",
            "48000/48000 [==============================] - 1s 25us/step - loss: 0.1263 - accuracy: 0.9611 - val_loss: 0.0970 - val_accuracy: 0.9706\n",
            "Epoch 90/250\n",
            "48000/48000 [==============================] - 1s 24us/step - loss: 0.1249 - accuracy: 0.9627 - val_loss: 0.0968 - val_accuracy: 0.9705\n",
            "Epoch 91/250\n",
            "48000/48000 [==============================] - 1s 23us/step - loss: 0.1256 - accuracy: 0.9630 - val_loss: 0.0962 - val_accuracy: 0.9709\n",
            "Epoch 92/250\n",
            "48000/48000 [==============================] - 1s 24us/step - loss: 0.1262 - accuracy: 0.9612 - val_loss: 0.0963 - val_accuracy: 0.9711\n",
            "Epoch 93/250\n",
            "48000/48000 [==============================] - 1s 24us/step - loss: 0.1216 - accuracy: 0.9640 - val_loss: 0.0956 - val_accuracy: 0.9708\n",
            "Epoch 94/250\n",
            "48000/48000 [==============================] - 1s 23us/step - loss: 0.1209 - accuracy: 0.9634 - val_loss: 0.0951 - val_accuracy: 0.9710\n",
            "Epoch 95/250\n",
            "48000/48000 [==============================] - 1s 24us/step - loss: 0.1252 - accuracy: 0.9628 - val_loss: 0.0947 - val_accuracy: 0.9712\n",
            "Epoch 96/250\n",
            "48000/48000 [==============================] - 1s 24us/step - loss: 0.1219 - accuracy: 0.9637 - val_loss: 0.0949 - val_accuracy: 0.9717\n",
            "Epoch 97/250\n",
            "48000/48000 [==============================] - 1s 24us/step - loss: 0.1198 - accuracy: 0.9639 - val_loss: 0.0942 - val_accuracy: 0.9714\n",
            "Epoch 98/250\n",
            "48000/48000 [==============================] - 1s 24us/step - loss: 0.1181 - accuracy: 0.9646 - val_loss: 0.0938 - val_accuracy: 0.9712\n",
            "Epoch 99/250\n",
            "48000/48000 [==============================] - 1s 24us/step - loss: 0.1177 - accuracy: 0.9651 - val_loss: 0.0939 - val_accuracy: 0.9719\n",
            "Epoch 100/250\n",
            "48000/48000 [==============================] - 1s 23us/step - loss: 0.1180 - accuracy: 0.9643 - val_loss: 0.0939 - val_accuracy: 0.9720\n",
            "Epoch 101/250\n",
            "48000/48000 [==============================] - 1s 24us/step - loss: 0.1204 - accuracy: 0.9639 - val_loss: 0.0938 - val_accuracy: 0.9718\n",
            "Epoch 102/250\n",
            "48000/48000 [==============================] - 1s 24us/step - loss: 0.1151 - accuracy: 0.9656 - val_loss: 0.0926 - val_accuracy: 0.9723\n",
            "Epoch 103/250\n",
            "48000/48000 [==============================] - 1s 24us/step - loss: 0.1144 - accuracy: 0.9651 - val_loss: 0.0923 - val_accuracy: 0.9722\n",
            "Epoch 104/250\n",
            "48000/48000 [==============================] - 1s 24us/step - loss: 0.1137 - accuracy: 0.9664 - val_loss: 0.0919 - val_accuracy: 0.9724\n",
            "Epoch 105/250\n",
            "48000/48000 [==============================] - 1s 24us/step - loss: 0.1148 - accuracy: 0.9654 - val_loss: 0.0919 - val_accuracy: 0.9725\n",
            "Epoch 106/250\n",
            "48000/48000 [==============================] - 1s 24us/step - loss: 0.1139 - accuracy: 0.9657 - val_loss: 0.0919 - val_accuracy: 0.9723\n",
            "Epoch 107/250\n",
            "48000/48000 [==============================] - 1s 24us/step - loss: 0.1140 - accuracy: 0.9671 - val_loss: 0.0917 - val_accuracy: 0.9726\n",
            "Epoch 108/250\n",
            "48000/48000 [==============================] - 1s 24us/step - loss: 0.1123 - accuracy: 0.9665 - val_loss: 0.0903 - val_accuracy: 0.9728\n",
            "Epoch 109/250\n",
            "48000/48000 [==============================] - 1s 23us/step - loss: 0.1095 - accuracy: 0.9659 - val_loss: 0.0910 - val_accuracy: 0.9726\n",
            "Epoch 110/250\n",
            "48000/48000 [==============================] - 1s 24us/step - loss: 0.1104 - accuracy: 0.9670 - val_loss: 0.0904 - val_accuracy: 0.9728\n",
            "Epoch 111/250\n",
            "48000/48000 [==============================] - 1s 24us/step - loss: 0.1113 - accuracy: 0.9670 - val_loss: 0.0899 - val_accuracy: 0.9730\n",
            "Epoch 112/250\n",
            "48000/48000 [==============================] - 1s 24us/step - loss: 0.1073 - accuracy: 0.9672 - val_loss: 0.0897 - val_accuracy: 0.9732\n",
            "Epoch 113/250\n",
            "48000/48000 [==============================] - 1s 24us/step - loss: 0.1100 - accuracy: 0.9665 - val_loss: 0.0894 - val_accuracy: 0.9729\n",
            "Epoch 114/250\n",
            "48000/48000 [==============================] - 1s 24us/step - loss: 0.1102 - accuracy: 0.9658 - val_loss: 0.0896 - val_accuracy: 0.9735\n",
            "Epoch 115/250\n",
            "48000/48000 [==============================] - 1s 24us/step - loss: 0.1083 - accuracy: 0.9669 - val_loss: 0.0889 - val_accuracy: 0.9732\n",
            "Epoch 116/250\n",
            "48000/48000 [==============================] - 1s 24us/step - loss: 0.1078 - accuracy: 0.9676 - val_loss: 0.0896 - val_accuracy: 0.9733\n",
            "Epoch 117/250\n",
            "48000/48000 [==============================] - 1s 24us/step - loss: 0.1064 - accuracy: 0.9673 - val_loss: 0.0891 - val_accuracy: 0.9727\n",
            "Epoch 118/250\n",
            "48000/48000 [==============================] - 1s 24us/step - loss: 0.1068 - accuracy: 0.9675 - val_loss: 0.0885 - val_accuracy: 0.9732\n",
            "Epoch 119/250\n",
            "48000/48000 [==============================] - 1s 24us/step - loss: 0.1072 - accuracy: 0.9669 - val_loss: 0.0883 - val_accuracy: 0.9735\n",
            "Epoch 120/250\n",
            "48000/48000 [==============================] - 1s 24us/step - loss: 0.1038 - accuracy: 0.9686 - val_loss: 0.0878 - val_accuracy: 0.9736\n",
            "Epoch 121/250\n",
            "48000/48000 [==============================] - 1s 24us/step - loss: 0.1049 - accuracy: 0.9678 - val_loss: 0.0880 - val_accuracy: 0.9737\n",
            "Epoch 122/250\n",
            "48000/48000 [==============================] - 1s 24us/step - loss: 0.1039 - accuracy: 0.9692 - val_loss: 0.0877 - val_accuracy: 0.9737\n",
            "Epoch 123/250\n",
            "48000/48000 [==============================] - 1s 24us/step - loss: 0.1037 - accuracy: 0.9676 - val_loss: 0.0871 - val_accuracy: 0.9738\n",
            "Epoch 124/250\n",
            "48000/48000 [==============================] - 1s 23us/step - loss: 0.1022 - accuracy: 0.9691 - val_loss: 0.0866 - val_accuracy: 0.9740\n",
            "Epoch 125/250\n",
            "48000/48000 [==============================] - 1s 24us/step - loss: 0.1029 - accuracy: 0.9692 - val_loss: 0.0874 - val_accuracy: 0.9740\n",
            "Epoch 126/250\n",
            "48000/48000 [==============================] - 1s 24us/step - loss: 0.1022 - accuracy: 0.9688 - val_loss: 0.0869 - val_accuracy: 0.9744\n",
            "Epoch 127/250\n",
            "48000/48000 [==============================] - 1s 24us/step - loss: 0.1017 - accuracy: 0.9698 - val_loss: 0.0867 - val_accuracy: 0.9739\n",
            "Epoch 128/250\n",
            "48000/48000 [==============================] - 1s 24us/step - loss: 0.1007 - accuracy: 0.9698 - val_loss: 0.0865 - val_accuracy: 0.9744\n",
            "Epoch 129/250\n",
            "48000/48000 [==============================] - 1s 24us/step - loss: 0.0999 - accuracy: 0.9703 - val_loss: 0.0864 - val_accuracy: 0.9743\n",
            "Epoch 130/250\n",
            "48000/48000 [==============================] - 1s 24us/step - loss: 0.1015 - accuracy: 0.9695 - val_loss: 0.0856 - val_accuracy: 0.9747\n",
            "Epoch 131/250\n",
            "48000/48000 [==============================] - 1s 23us/step - loss: 0.1005 - accuracy: 0.9690 - val_loss: 0.0855 - val_accuracy: 0.9746\n",
            "Epoch 132/250\n",
            "48000/48000 [==============================] - 1s 24us/step - loss: 0.0978 - accuracy: 0.9704 - val_loss: 0.0856 - val_accuracy: 0.9743\n",
            "Epoch 133/250\n",
            "48000/48000 [==============================] - 1s 24us/step - loss: 0.0972 - accuracy: 0.9701 - val_loss: 0.0850 - val_accuracy: 0.9745\n",
            "Epoch 134/250\n",
            "48000/48000 [==============================] - 1s 24us/step - loss: 0.0971 - accuracy: 0.9695 - val_loss: 0.0850 - val_accuracy: 0.9747\n",
            "Epoch 135/250\n",
            "48000/48000 [==============================] - 1s 24us/step - loss: 0.0954 - accuracy: 0.9708 - val_loss: 0.0857 - val_accuracy: 0.9744\n",
            "Epoch 136/250\n",
            "48000/48000 [==============================] - 1s 24us/step - loss: 0.0959 - accuracy: 0.9708 - val_loss: 0.0846 - val_accuracy: 0.9753\n",
            "Epoch 137/250\n",
            "48000/48000 [==============================] - 1s 24us/step - loss: 0.0957 - accuracy: 0.9704 - val_loss: 0.0845 - val_accuracy: 0.9745\n",
            "Epoch 138/250\n",
            "48000/48000 [==============================] - 1s 24us/step - loss: 0.0998 - accuracy: 0.9697 - val_loss: 0.0844 - val_accuracy: 0.9747\n",
            "Epoch 139/250\n",
            "48000/48000 [==============================] - 1s 24us/step - loss: 0.0962 - accuracy: 0.9700 - val_loss: 0.0847 - val_accuracy: 0.9749\n",
            "Epoch 140/250\n",
            "48000/48000 [==============================] - 1s 24us/step - loss: 0.0957 - accuracy: 0.9708 - val_loss: 0.0843 - val_accuracy: 0.9753\n",
            "Epoch 141/250\n",
            "48000/48000 [==============================] - 1s 24us/step - loss: 0.0933 - accuracy: 0.9713 - val_loss: 0.0837 - val_accuracy: 0.9751\n",
            "Epoch 142/250\n",
            "48000/48000 [==============================] - 1s 24us/step - loss: 0.0938 - accuracy: 0.9717 - val_loss: 0.0840 - val_accuracy: 0.9748\n",
            "Epoch 143/250\n",
            "48000/48000 [==============================] - 1s 24us/step - loss: 0.0933 - accuracy: 0.9715 - val_loss: 0.0836 - val_accuracy: 0.9753\n",
            "Epoch 144/250\n",
            "48000/48000 [==============================] - 1s 24us/step - loss: 0.0923 - accuracy: 0.9711 - val_loss: 0.0839 - val_accuracy: 0.9752\n",
            "Epoch 145/250\n",
            "48000/48000 [==============================] - 1s 24us/step - loss: 0.0912 - accuracy: 0.9722 - val_loss: 0.0831 - val_accuracy: 0.9754\n",
            "Epoch 146/250\n",
            "48000/48000 [==============================] - 1s 24us/step - loss: 0.0924 - accuracy: 0.9721 - val_loss: 0.0830 - val_accuracy: 0.9753\n",
            "Epoch 147/250\n",
            "48000/48000 [==============================] - 1s 24us/step - loss: 0.0919 - accuracy: 0.9710 - val_loss: 0.0830 - val_accuracy: 0.9754\n",
            "Epoch 148/250\n",
            "48000/48000 [==============================] - 1s 24us/step - loss: 0.0936 - accuracy: 0.9705 - val_loss: 0.0829 - val_accuracy: 0.9752\n",
            "Epoch 149/250\n",
            "48000/48000 [==============================] - 1s 24us/step - loss: 0.0909 - accuracy: 0.9715 - val_loss: 0.0826 - val_accuracy: 0.9757\n",
            "Epoch 150/250\n",
            "48000/48000 [==============================] - 1s 24us/step - loss: 0.0890 - accuracy: 0.9718 - val_loss: 0.0830 - val_accuracy: 0.9748\n",
            "Epoch 151/250\n",
            "48000/48000 [==============================] - 1s 24us/step - loss: 0.0927 - accuracy: 0.9716 - val_loss: 0.0828 - val_accuracy: 0.9747\n",
            "Epoch 152/250\n",
            "48000/48000 [==============================] - 1s 24us/step - loss: 0.0878 - accuracy: 0.9731 - val_loss: 0.0824 - val_accuracy: 0.9757\n",
            "Epoch 153/250\n",
            "48000/48000 [==============================] - 1s 24us/step - loss: 0.0884 - accuracy: 0.9735 - val_loss: 0.0821 - val_accuracy: 0.9761\n",
            "Epoch 154/250\n",
            "48000/48000 [==============================] - 1s 25us/step - loss: 0.0889 - accuracy: 0.9725 - val_loss: 0.0823 - val_accuracy: 0.9758\n",
            "Epoch 155/250\n",
            "48000/48000 [==============================] - 1s 27us/step - loss: 0.0882 - accuracy: 0.9723 - val_loss: 0.0820 - val_accuracy: 0.9758\n",
            "Epoch 156/250\n",
            "48000/48000 [==============================] - 1s 26us/step - loss: 0.0862 - accuracy: 0.9734 - val_loss: 0.0821 - val_accuracy: 0.9757\n",
            "Epoch 157/250\n",
            "48000/48000 [==============================] - 1s 27us/step - loss: 0.0880 - accuracy: 0.9731 - val_loss: 0.0819 - val_accuracy: 0.9761\n",
            "Epoch 158/250\n",
            "48000/48000 [==============================] - 1s 26us/step - loss: 0.0858 - accuracy: 0.9731 - val_loss: 0.0819 - val_accuracy: 0.9754\n",
            "Epoch 159/250\n",
            "48000/48000 [==============================] - 1s 26us/step - loss: 0.0885 - accuracy: 0.9730 - val_loss: 0.0813 - val_accuracy: 0.9753\n",
            "Epoch 160/250\n",
            "48000/48000 [==============================] - 1s 26us/step - loss: 0.0868 - accuracy: 0.9726 - val_loss: 0.0810 - val_accuracy: 0.9762\n",
            "Epoch 161/250\n",
            "48000/48000 [==============================] - 1s 26us/step - loss: 0.0872 - accuracy: 0.9726 - val_loss: 0.0814 - val_accuracy: 0.9757\n",
            "Epoch 162/250\n",
            "48000/48000 [==============================] - 1s 26us/step - loss: 0.0865 - accuracy: 0.9733 - val_loss: 0.0812 - val_accuracy: 0.9761\n",
            "Epoch 163/250\n",
            "48000/48000 [==============================] - 1s 24us/step - loss: 0.0863 - accuracy: 0.9738 - val_loss: 0.0815 - val_accuracy: 0.9758\n",
            "Epoch 164/250\n",
            "48000/48000 [==============================] - 1s 24us/step - loss: 0.0835 - accuracy: 0.9743 - val_loss: 0.0813 - val_accuracy: 0.9758\n",
            "Epoch 165/250\n",
            "48000/48000 [==============================] - 1s 24us/step - loss: 0.0861 - accuracy: 0.9734 - val_loss: 0.0806 - val_accuracy: 0.9758\n",
            "Epoch 166/250\n",
            "48000/48000 [==============================] - 1s 23us/step - loss: 0.0850 - accuracy: 0.9739 - val_loss: 0.0806 - val_accuracy: 0.9758\n",
            "Epoch 167/250\n",
            "48000/48000 [==============================] - 1s 24us/step - loss: 0.0847 - accuracy: 0.9738 - val_loss: 0.0804 - val_accuracy: 0.9761\n",
            "Epoch 168/250\n",
            "48000/48000 [==============================] - 1s 24us/step - loss: 0.0844 - accuracy: 0.9738 - val_loss: 0.0804 - val_accuracy: 0.9759\n",
            "Epoch 169/250\n",
            "48000/48000 [==============================] - 1s 24us/step - loss: 0.0841 - accuracy: 0.9736 - val_loss: 0.0803 - val_accuracy: 0.9762\n",
            "Epoch 170/250\n",
            "48000/48000 [==============================] - 1s 24us/step - loss: 0.0848 - accuracy: 0.9744 - val_loss: 0.0806 - val_accuracy: 0.9759\n",
            "Epoch 171/250\n",
            "48000/48000 [==============================] - 1s 24us/step - loss: 0.0833 - accuracy: 0.9745 - val_loss: 0.0801 - val_accuracy: 0.9767\n",
            "Epoch 172/250\n",
            "48000/48000 [==============================] - 1s 23us/step - loss: 0.0813 - accuracy: 0.9749 - val_loss: 0.0803 - val_accuracy: 0.9758\n",
            "Epoch 173/250\n",
            "48000/48000 [==============================] - 1s 24us/step - loss: 0.0817 - accuracy: 0.9745 - val_loss: 0.0807 - val_accuracy: 0.9758\n",
            "Epoch 174/250\n",
            "48000/48000 [==============================] - 1s 24us/step - loss: 0.0811 - accuracy: 0.9746 - val_loss: 0.0800 - val_accuracy: 0.9759\n",
            "Epoch 175/250\n",
            "48000/48000 [==============================] - 1s 24us/step - loss: 0.0813 - accuracy: 0.9748 - val_loss: 0.0800 - val_accuracy: 0.9758\n",
            "Epoch 176/250\n",
            "48000/48000 [==============================] - 1s 24us/step - loss: 0.0807 - accuracy: 0.9748 - val_loss: 0.0804 - val_accuracy: 0.9759\n",
            "Epoch 177/250\n",
            "48000/48000 [==============================] - 1s 24us/step - loss: 0.0813 - accuracy: 0.9744 - val_loss: 0.0792 - val_accuracy: 0.9759\n",
            "Epoch 178/250\n",
            "48000/48000 [==============================] - 1s 23us/step - loss: 0.0806 - accuracy: 0.9754 - val_loss: 0.0794 - val_accuracy: 0.9760\n",
            "Epoch 179/250\n",
            "48000/48000 [==============================] - 1s 24us/step - loss: 0.0813 - accuracy: 0.9743 - val_loss: 0.0793 - val_accuracy: 0.9763\n",
            "Epoch 180/250\n",
            "48000/48000 [==============================] - 1s 23us/step - loss: 0.0810 - accuracy: 0.9748 - val_loss: 0.0795 - val_accuracy: 0.9763\n",
            "Epoch 181/250\n",
            "48000/48000 [==============================] - 1s 24us/step - loss: 0.0794 - accuracy: 0.9749 - val_loss: 0.0794 - val_accuracy: 0.9758\n",
            "Epoch 182/250\n",
            "48000/48000 [==============================] - 1s 24us/step - loss: 0.0791 - accuracy: 0.9753 - val_loss: 0.0793 - val_accuracy: 0.9766\n",
            "Epoch 183/250\n",
            "48000/48000 [==============================] - 1s 24us/step - loss: 0.0789 - accuracy: 0.9757 - val_loss: 0.0790 - val_accuracy: 0.9768\n",
            "Epoch 184/250\n",
            "48000/48000 [==============================] - 1s 24us/step - loss: 0.0806 - accuracy: 0.9751 - val_loss: 0.0788 - val_accuracy: 0.9762\n",
            "Epoch 185/250\n",
            "48000/48000 [==============================] - 1s 24us/step - loss: 0.0766 - accuracy: 0.9759 - val_loss: 0.0789 - val_accuracy: 0.9764\n",
            "Epoch 186/250\n",
            "48000/48000 [==============================] - 1s 24us/step - loss: 0.0785 - accuracy: 0.9751 - val_loss: 0.0796 - val_accuracy: 0.9756\n",
            "Epoch 187/250\n",
            "48000/48000 [==============================] - 1s 24us/step - loss: 0.0765 - accuracy: 0.9760 - val_loss: 0.0794 - val_accuracy: 0.9767\n",
            "Epoch 188/250\n",
            "48000/48000 [==============================] - 1s 24us/step - loss: 0.0782 - accuracy: 0.9753 - val_loss: 0.0785 - val_accuracy: 0.9767\n",
            "Epoch 189/250\n",
            "48000/48000 [==============================] - 1s 23us/step - loss: 0.0791 - accuracy: 0.9752 - val_loss: 0.0787 - val_accuracy: 0.9761\n",
            "Epoch 190/250\n",
            "48000/48000 [==============================] - 1s 24us/step - loss: 0.0750 - accuracy: 0.9770 - val_loss: 0.0785 - val_accuracy: 0.9764\n",
            "Epoch 191/250\n",
            "48000/48000 [==============================] - 1s 24us/step - loss: 0.0731 - accuracy: 0.9765 - val_loss: 0.0787 - val_accuracy: 0.9765\n",
            "Epoch 192/250\n",
            "48000/48000 [==============================] - 1s 23us/step - loss: 0.0769 - accuracy: 0.9757 - val_loss: 0.0785 - val_accuracy: 0.9764\n",
            "Epoch 193/250\n",
            "48000/48000 [==============================] - 1s 24us/step - loss: 0.0757 - accuracy: 0.9769 - val_loss: 0.0782 - val_accuracy: 0.9765\n",
            "Epoch 194/250\n",
            "48000/48000 [==============================] - 1s 24us/step - loss: 0.0745 - accuracy: 0.9763 - val_loss: 0.0792 - val_accuracy: 0.9768\n",
            "Epoch 195/250\n",
            "48000/48000 [==============================] - 1s 24us/step - loss: 0.0765 - accuracy: 0.9760 - val_loss: 0.0785 - val_accuracy: 0.9769\n",
            "Epoch 196/250\n",
            "48000/48000 [==============================] - 1s 23us/step - loss: 0.0739 - accuracy: 0.9771 - val_loss: 0.0780 - val_accuracy: 0.9769\n",
            "Epoch 197/250\n",
            "48000/48000 [==============================] - 1s 24us/step - loss: 0.0749 - accuracy: 0.9758 - val_loss: 0.0777 - val_accuracy: 0.9770\n",
            "Epoch 198/250\n",
            "48000/48000 [==============================] - 1s 24us/step - loss: 0.0748 - accuracy: 0.9760 - val_loss: 0.0783 - val_accuracy: 0.9770\n",
            "Epoch 199/250\n",
            "48000/48000 [==============================] - 1s 23us/step - loss: 0.0747 - accuracy: 0.9772 - val_loss: 0.0784 - val_accuracy: 0.9768\n",
            "Epoch 200/250\n",
            "48000/48000 [==============================] - 1s 23us/step - loss: 0.0750 - accuracy: 0.9760 - val_loss: 0.0780 - val_accuracy: 0.9763\n",
            "Epoch 201/250\n",
            "48000/48000 [==============================] - 1s 24us/step - loss: 0.0732 - accuracy: 0.9773 - val_loss: 0.0779 - val_accuracy: 0.9763\n",
            "Epoch 202/250\n",
            "48000/48000 [==============================] - 1s 24us/step - loss: 0.0737 - accuracy: 0.9769 - val_loss: 0.0783 - val_accuracy: 0.9766\n",
            "Epoch 203/250\n",
            "48000/48000 [==============================] - 1s 24us/step - loss: 0.0726 - accuracy: 0.9775 - val_loss: 0.0781 - val_accuracy: 0.9768\n",
            "Epoch 204/250\n",
            "48000/48000 [==============================] - 1s 23us/step - loss: 0.0730 - accuracy: 0.9772 - val_loss: 0.0779 - val_accuracy: 0.9768\n",
            "Epoch 205/250\n",
            "48000/48000 [==============================] - 1s 24us/step - loss: 0.0717 - accuracy: 0.9772 - val_loss: 0.0775 - val_accuracy: 0.9768\n",
            "Epoch 206/250\n",
            "48000/48000 [==============================] - 1s 24us/step - loss: 0.0722 - accuracy: 0.9779 - val_loss: 0.0778 - val_accuracy: 0.9772\n",
            "Epoch 207/250\n",
            "48000/48000 [==============================] - 1s 24us/step - loss: 0.0707 - accuracy: 0.9782 - val_loss: 0.0781 - val_accuracy: 0.9769\n",
            "Epoch 208/250\n",
            "48000/48000 [==============================] - 1s 24us/step - loss: 0.0694 - accuracy: 0.9791 - val_loss: 0.0784 - val_accuracy: 0.9771\n",
            "Epoch 209/250\n",
            "48000/48000 [==============================] - 1s 24us/step - loss: 0.0723 - accuracy: 0.9777 - val_loss: 0.0777 - val_accuracy: 0.9772\n",
            "Epoch 210/250\n",
            "48000/48000 [==============================] - 1s 25us/step - loss: 0.0704 - accuracy: 0.9783 - val_loss: 0.0781 - val_accuracy: 0.9768\n",
            "Epoch 211/250\n",
            "48000/48000 [==============================] - 1s 24us/step - loss: 0.0714 - accuracy: 0.9773 - val_loss: 0.0776 - val_accuracy: 0.9773\n",
            "Epoch 212/250\n",
            "48000/48000 [==============================] - 1s 24us/step - loss: 0.0717 - accuracy: 0.9773 - val_loss: 0.0781 - val_accuracy: 0.9773\n",
            "Epoch 213/250\n",
            "48000/48000 [==============================] - 1s 24us/step - loss: 0.0693 - accuracy: 0.9786 - val_loss: 0.0780 - val_accuracy: 0.9768\n",
            "Epoch 214/250\n",
            "48000/48000 [==============================] - 1s 24us/step - loss: 0.0700 - accuracy: 0.9786 - val_loss: 0.0777 - val_accuracy: 0.9767\n",
            "Epoch 215/250\n",
            "48000/48000 [==============================] - 1s 24us/step - loss: 0.0734 - accuracy: 0.9766 - val_loss: 0.0781 - val_accuracy: 0.9772\n",
            "Epoch 216/250\n",
            "48000/48000 [==============================] - 1s 24us/step - loss: 0.0689 - accuracy: 0.9783 - val_loss: 0.0775 - val_accuracy: 0.9773\n",
            "Epoch 217/250\n",
            "48000/48000 [==============================] - 1s 24us/step - loss: 0.0698 - accuracy: 0.9779 - val_loss: 0.0779 - val_accuracy: 0.9772\n",
            "Epoch 218/250\n",
            "48000/48000 [==============================] - 1s 24us/step - loss: 0.0683 - accuracy: 0.9786 - val_loss: 0.0769 - val_accuracy: 0.9772\n",
            "Epoch 219/250\n",
            "48000/48000 [==============================] - 1s 24us/step - loss: 0.0696 - accuracy: 0.9781 - val_loss: 0.0776 - val_accuracy: 0.9772\n",
            "Epoch 220/250\n",
            "48000/48000 [==============================] - 1s 24us/step - loss: 0.0696 - accuracy: 0.9780 - val_loss: 0.0768 - val_accuracy: 0.9770\n",
            "Epoch 221/250\n",
            "48000/48000 [==============================] - 1s 24us/step - loss: 0.0700 - accuracy: 0.9782 - val_loss: 0.0766 - val_accuracy: 0.9775\n",
            "Epoch 222/250\n",
            "48000/48000 [==============================] - 1s 24us/step - loss: 0.0693 - accuracy: 0.9778 - val_loss: 0.0766 - val_accuracy: 0.9773\n",
            "Epoch 223/250\n",
            "48000/48000 [==============================] - 1s 24us/step - loss: 0.0678 - accuracy: 0.9786 - val_loss: 0.0766 - val_accuracy: 0.9776\n",
            "Epoch 224/250\n",
            "48000/48000 [==============================] - 1s 24us/step - loss: 0.0686 - accuracy: 0.9781 - val_loss: 0.0775 - val_accuracy: 0.9774\n",
            "Epoch 225/250\n",
            "48000/48000 [==============================] - 1s 24us/step - loss: 0.0670 - accuracy: 0.9793 - val_loss: 0.0769 - val_accuracy: 0.9778\n",
            "Epoch 226/250\n",
            "48000/48000 [==============================] - 1s 24us/step - loss: 0.0688 - accuracy: 0.9776 - val_loss: 0.0772 - val_accuracy: 0.9776\n",
            "Epoch 227/250\n",
            "48000/48000 [==============================] - 1s 23us/step - loss: 0.0676 - accuracy: 0.9791 - val_loss: 0.0774 - val_accuracy: 0.9775\n",
            "Epoch 228/250\n",
            "48000/48000 [==============================] - 1s 24us/step - loss: 0.0675 - accuracy: 0.9779 - val_loss: 0.0770 - val_accuracy: 0.9775\n",
            "Epoch 229/250\n",
            "48000/48000 [==============================] - 1s 24us/step - loss: 0.0677 - accuracy: 0.9792 - val_loss: 0.0766 - val_accuracy: 0.9775\n",
            "Epoch 230/250\n",
            "48000/48000 [==============================] - 1s 23us/step - loss: 0.0675 - accuracy: 0.9790 - val_loss: 0.0767 - val_accuracy: 0.9777\n",
            "Epoch 231/250\n",
            "48000/48000 [==============================] - 1s 24us/step - loss: 0.0644 - accuracy: 0.9800 - val_loss: 0.0767 - val_accuracy: 0.9775\n",
            "Epoch 232/250\n",
            "48000/48000 [==============================] - 1s 24us/step - loss: 0.0666 - accuracy: 0.9787 - val_loss: 0.0767 - val_accuracy: 0.9772\n",
            "Epoch 233/250\n",
            "48000/48000 [==============================] - 1s 24us/step - loss: 0.0646 - accuracy: 0.9800 - val_loss: 0.0768 - val_accuracy: 0.9772\n",
            "Epoch 234/250\n",
            "48000/48000 [==============================] - 1s 24us/step - loss: 0.0648 - accuracy: 0.9797 - val_loss: 0.0771 - val_accuracy: 0.9771\n",
            "Epoch 235/250\n",
            "48000/48000 [==============================] - 1s 24us/step - loss: 0.0623 - accuracy: 0.9801 - val_loss: 0.0766 - val_accuracy: 0.9774\n",
            "Epoch 236/250\n",
            "48000/48000 [==============================] - 1s 24us/step - loss: 0.0654 - accuracy: 0.9797 - val_loss: 0.0768 - val_accuracy: 0.9768\n",
            "Epoch 237/250\n",
            "48000/48000 [==============================] - 1s 24us/step - loss: 0.0649 - accuracy: 0.9798 - val_loss: 0.0765 - val_accuracy: 0.9775\n",
            "Epoch 238/250\n",
            "48000/48000 [==============================] - 1s 24us/step - loss: 0.0629 - accuracy: 0.9812 - val_loss: 0.0769 - val_accuracy: 0.9771\n",
            "Epoch 239/250\n",
            "48000/48000 [==============================] - 1s 24us/step - loss: 0.0646 - accuracy: 0.9795 - val_loss: 0.0768 - val_accuracy: 0.9773\n",
            "Epoch 240/250\n",
            "48000/48000 [==============================] - 1s 24us/step - loss: 0.0651 - accuracy: 0.9797 - val_loss: 0.0767 - val_accuracy: 0.9774\n",
            "Epoch 241/250\n",
            "48000/48000 [==============================] - 1s 24us/step - loss: 0.0640 - accuracy: 0.9794 - val_loss: 0.0762 - val_accuracy: 0.9777\n",
            "Epoch 242/250\n",
            "48000/48000 [==============================] - 1s 24us/step - loss: 0.0641 - accuracy: 0.9794 - val_loss: 0.0764 - val_accuracy: 0.9779\n",
            "Epoch 243/250\n",
            "48000/48000 [==============================] - 1s 24us/step - loss: 0.0643 - accuracy: 0.9796 - val_loss: 0.0761 - val_accuracy: 0.9776\n",
            "Epoch 244/250\n",
            "48000/48000 [==============================] - 1s 23us/step - loss: 0.0633 - accuracy: 0.9797 - val_loss: 0.0758 - val_accuracy: 0.9774\n",
            "Epoch 245/250\n",
            "48000/48000 [==============================] - 1s 24us/step - loss: 0.0650 - accuracy: 0.9799 - val_loss: 0.0761 - val_accuracy: 0.9776\n",
            "Epoch 246/250\n",
            "48000/48000 [==============================] - 1s 24us/step - loss: 0.0654 - accuracy: 0.9793 - val_loss: 0.0758 - val_accuracy: 0.9777\n",
            "Epoch 247/250\n",
            "48000/48000 [==============================] - 1s 24us/step - loss: 0.0632 - accuracy: 0.9801 - val_loss: 0.0761 - val_accuracy: 0.9776\n",
            "Epoch 248/250\n",
            "48000/48000 [==============================] - 1s 24us/step - loss: 0.0623 - accuracy: 0.9801 - val_loss: 0.0765 - val_accuracy: 0.9771\n",
            "Epoch 249/250\n",
            "48000/48000 [==============================] - 1s 24us/step - loss: 0.0612 - accuracy: 0.9804 - val_loss: 0.0764 - val_accuracy: 0.9772\n",
            "Epoch 250/250\n",
            "48000/48000 [==============================] - 1s 24us/step - loss: 0.0629 - accuracy: 0.9802 - val_loss: 0.0757 - val_accuracy: 0.9777\n"
          ],
          "name": "stdout"
        }
      ]
    },
    {
      "cell_type": "code",
      "metadata": {
        "id": "6FM1Mea9G3dL",
        "colab_type": "code",
        "colab": {
          "base_uri": "https://localhost:8080/",
          "height": 72
        },
        "outputId": "36e460ca-9b81-4dba-af6b-5072237ffea7"
      },
      "source": [
        "score = model.evaluate(X_test, Y_test, verbose=VERBOSE)\n",
        "print('Test score:', score[0])\n",
        "print('Test accuracy:', score[1])"
      ],
      "execution_count": null,
      "outputs": [
        {
          "output_type": "stream",
          "text": [
            "10000/10000 [==============================] - 0s 49us/step\n",
            "Test score: 0.06910023485703277\n",
            "Test accuracy: 0.9782999753952026\n"
          ],
          "name": "stdout"
        }
      ]
    },
    {
      "cell_type": "code",
      "metadata": {
        "id": "h-5_57cDHI_U",
        "colab_type": "code",
        "colab": {}
      },
      "source": [
        ""
      ],
      "execution_count": null,
      "outputs": []
    },
    {
      "cell_type": "code",
      "metadata": {
        "id": "u_B5vgnyLiBK",
        "colab_type": "code",
        "colab": {}
      },
      "source": [
        "import numpy as np\n",
        "from keras.datasets import mnist\n",
        "from keras.models import Sequential\n",
        "from keras.layers.core import Dense, Activation\n",
        "from keras.optimizers import SGD, RMSprop, Adam \n",
        "from keras.utils import np_utils\n",
        "np.random.seed(1671)\n",
        "\n",
        "\n",
        "NB_EPOCH = 20\n",
        "BATCH_SIZE = 128\n",
        "VERBOSE = 1\n",
        "NB_CLASSES = 10 \n",
        "OPTIMIZER = RMSprop()\n",
        "N_HIDDEN = 128\n",
        "VALIDATION_SPLIT = 0.2"
      ],
      "execution_count": null,
      "outputs": []
    },
    {
      "cell_type": "code",
      "metadata": {
        "id": "3XTDd321LjGr",
        "colab_type": "code",
        "colab": {}
      },
      "source": [
        "(X_train, y_train), (X_test, y_test) = mnist.load_data()\n",
        "\n",
        "RESHAPED = 784\n",
        "\n",
        "X_train = X_train.reshape(60000,RESHAPED)\n",
        "X_test = X_test.reshape(10000, RESHAPED)\n",
        "X_train = X_train.astype('float32')\n",
        "X_test = X_test.astype('float32')"
      ],
      "execution_count": null,
      "outputs": []
    },
    {
      "cell_type": "code",
      "metadata": {
        "id": "NVqesErVL0Tt",
        "colab_type": "code",
        "colab": {
          "base_uri": "https://localhost:8080/",
          "height": 54
        },
        "outputId": "1534cafb-70f6-4b5c-8cc6-d4f212538c63"
      },
      "source": [
        "X_train /= 255\n",
        "X_test /= 255\n",
        "\n",
        "print(X_train.shape[0], 'train samples')\n",
        "print(X_test.shape[0], 'test samples')"
      ],
      "execution_count": null,
      "outputs": [
        {
          "output_type": "stream",
          "text": [
            "60000 train samples\n",
            "10000 test samples\n"
          ],
          "name": "stdout"
        }
      ]
    },
    {
      "cell_type": "code",
      "metadata": {
        "id": "1B456K--L5bN",
        "colab_type": "code",
        "colab": {}
      },
      "source": [
        "Y_train = np_utils.to_categorical(y_train, NB_CLASSES)\n",
        "Y_test = np_utils.to_categorical(y_test, NB_CLASSES)"
      ],
      "execution_count": null,
      "outputs": []
    },
    {
      "cell_type": "code",
      "metadata": {
        "id": "L8AJX2IaL9k8",
        "colab_type": "code",
        "colab": {
          "base_uri": "https://localhost:8080/",
          "height": 348
        },
        "outputId": "cb2b3c36-5527-482e-fc37-7bc2b5f9d845"
      },
      "source": [
        "model = Sequential()\n",
        "model.add(Dense(N_HIDDEN,input_shape=(RESHAPED,)))\n",
        "model.add(Dense(N_HIDDEN))\n",
        "model.add(Activation('relu'))\n",
        "model.add(Dense(NB_CLASSES))\n",
        "model.add(Activation('softmax'))\n",
        "model.summary()"
      ],
      "execution_count": null,
      "outputs": [
        {
          "output_type": "stream",
          "text": [
            "Model: \"sequential_12\"\n",
            "_________________________________________________________________\n",
            "Layer (type)                 Output Shape              Param #   \n",
            "=================================================================\n",
            "dense_25 (Dense)             (None, 128)               100480    \n",
            "_________________________________________________________________\n",
            "dense_26 (Dense)             (None, 128)               16512     \n",
            "_________________________________________________________________\n",
            "activation_23 (Activation)   (None, 128)               0         \n",
            "_________________________________________________________________\n",
            "dense_27 (Dense)             (None, 10)                1290      \n",
            "_________________________________________________________________\n",
            "activation_24 (Activation)   (None, 10)                0         \n",
            "=================================================================\n",
            "Total params: 118,282\n",
            "Trainable params: 118,282\n",
            "Non-trainable params: 0\n",
            "_________________________________________________________________\n"
          ],
          "name": "stdout"
        }
      ]
    },
    {
      "cell_type": "code",
      "metadata": {
        "id": "2jDhaNrDMEeP",
        "colab_type": "code",
        "colab": {}
      },
      "source": [
        "model.compile(loss='categorical_crossentropy',optimizer=OPTIMIZER,\n",
        "              metrics=['accuracy'])"
      ],
      "execution_count": null,
      "outputs": []
    },
    {
      "cell_type": "code",
      "metadata": {
        "id": "BtH-KMHyMRkl",
        "colab_type": "code",
        "colab": {
          "base_uri": "https://localhost:8080/",
          "height": 770
        },
        "outputId": "cae36855-3507-4b17-a70e-553511e44e66"
      },
      "source": [
        "history = model.fit(X_train, Y_train, batch_size=BATCH_SIZE, epochs= NB_EPOCH,\n",
        "                    verbose=VERBOSE, validation_split=VALIDATION_SPLIT)"
      ],
      "execution_count": null,
      "outputs": [
        {
          "output_type": "stream",
          "text": [
            "Train on 48000 samples, validate on 12000 samples\n",
            "Epoch 1/20\n",
            "48000/48000 [==============================] - 1s 25us/step - loss: 0.3317 - accuracy: 0.9043 - val_loss: 0.1866 - val_accuracy: 0.9475\n",
            "Epoch 2/20\n",
            "48000/48000 [==============================] - 1s 24us/step - loss: 0.1535 - accuracy: 0.9549 - val_loss: 0.1329 - val_accuracy: 0.9631\n",
            "Epoch 3/20\n",
            "48000/48000 [==============================] - 1s 23us/step - loss: 0.1113 - accuracy: 0.9667 - val_loss: 0.1108 - val_accuracy: 0.9682\n",
            "Epoch 4/20\n",
            "48000/48000 [==============================] - 1s 24us/step - loss: 0.0873 - accuracy: 0.9730 - val_loss: 0.1060 - val_accuracy: 0.9683\n",
            "Epoch 5/20\n",
            "48000/48000 [==============================] - 1s 23us/step - loss: 0.0713 - accuracy: 0.9779 - val_loss: 0.0999 - val_accuracy: 0.9697\n",
            "Epoch 6/20\n",
            "48000/48000 [==============================] - 1s 24us/step - loss: 0.0606 - accuracy: 0.9816 - val_loss: 0.1001 - val_accuracy: 0.9711\n",
            "Epoch 7/20\n",
            "48000/48000 [==============================] - 1s 23us/step - loss: 0.0518 - accuracy: 0.9843 - val_loss: 0.0993 - val_accuracy: 0.9716\n",
            "Epoch 8/20\n",
            "48000/48000 [==============================] - 1s 23us/step - loss: 0.0455 - accuracy: 0.9858 - val_loss: 0.0916 - val_accuracy: 0.9736\n",
            "Epoch 9/20\n",
            "48000/48000 [==============================] - 1s 24us/step - loss: 0.0393 - accuracy: 0.9880 - val_loss: 0.1010 - val_accuracy: 0.9732\n",
            "Epoch 10/20\n",
            "48000/48000 [==============================] - 1s 24us/step - loss: 0.0339 - accuracy: 0.9894 - val_loss: 0.0978 - val_accuracy: 0.9739\n",
            "Epoch 11/20\n",
            "48000/48000 [==============================] - 1s 24us/step - loss: 0.0298 - accuracy: 0.9905 - val_loss: 0.1030 - val_accuracy: 0.9738\n",
            "Epoch 12/20\n",
            "48000/48000 [==============================] - 1s 24us/step - loss: 0.0265 - accuracy: 0.9916 - val_loss: 0.0965 - val_accuracy: 0.9755\n",
            "Epoch 13/20\n",
            "48000/48000 [==============================] - 1s 23us/step - loss: 0.0232 - accuracy: 0.9925 - val_loss: 0.1126 - val_accuracy: 0.9729\n",
            "Epoch 14/20\n",
            "48000/48000 [==============================] - 1s 23us/step - loss: 0.0209 - accuracy: 0.9926 - val_loss: 0.1109 - val_accuracy: 0.9732\n",
            "Epoch 15/20\n",
            "48000/48000 [==============================] - 1s 24us/step - loss: 0.0178 - accuracy: 0.9943 - val_loss: 0.1117 - val_accuracy: 0.9753\n",
            "Epoch 16/20\n",
            "48000/48000 [==============================] - 1s 24us/step - loss: 0.0164 - accuracy: 0.9948 - val_loss: 0.1251 - val_accuracy: 0.9721\n",
            "Epoch 17/20\n",
            "48000/48000 [==============================] - 1s 23us/step - loss: 0.0128 - accuracy: 0.9956 - val_loss: 0.1165 - val_accuracy: 0.9764\n",
            "Epoch 18/20\n",
            "48000/48000 [==============================] - 1s 24us/step - loss: 0.0118 - accuracy: 0.9963 - val_loss: 0.1223 - val_accuracy: 0.9764\n",
            "Epoch 19/20\n",
            "48000/48000 [==============================] - 1s 24us/step - loss: 0.0103 - accuracy: 0.9969 - val_loss: 0.1338 - val_accuracy: 0.9727\n",
            "Epoch 20/20\n",
            "48000/48000 [==============================] - 1s 24us/step - loss: 0.0100 - accuracy: 0.9963 - val_loss: 0.1239 - val_accuracy: 0.9753\n"
          ],
          "name": "stdout"
        }
      ]
    },
    {
      "cell_type": "code",
      "metadata": {
        "id": "rYWZcFCFMYQV",
        "colab_type": "code",
        "colab": {
          "base_uri": "https://localhost:8080/",
          "height": 72
        },
        "outputId": "b33b9aed-b0a8-461e-aea0-58759507401d"
      },
      "source": [
        "score = model.evaluate(X_test, Y_test, verbose=VERBOSE)\n",
        "print('Test score:', score[0])\n",
        "print('Test accuracy:', score[1])"
      ],
      "execution_count": null,
      "outputs": [
        {
          "output_type": "stream",
          "text": [
            "10000/10000 [==============================] - 0s 48us/step\n",
            "Test score: 0.11000905128365321\n",
            "Test accuracy: 0.9761000275611877\n"
          ],
          "name": "stdout"
        }
      ]
    },
    {
      "cell_type": "code",
      "metadata": {
        "id": "QxKCx3VuMfkC",
        "colab_type": "code",
        "colab": {}
      },
      "source": [
        ""
      ],
      "execution_count": null,
      "outputs": []
    }
  ]
}